{
 "cells": [
  {
   "cell_type": "code",
   "execution_count": 8,
   "metadata": {},
   "outputs": [],
   "source": [
    "import pandas as pd\n",
    "import numpy as np\n",
    "import altair as alt\n",
    "import warnings\n",
    "warnings.filterwarnings('ignore')"
   ]
  },
  {
   "cell_type": "raw",
   "metadata": {},
   "source": [
    "1. Does the community has a more positive feeling?\n",
    "->Distribution of ratings -Table and Chart?\n",
    "2. What are the most frequent conditions/drugs?\n",
    "3. Are text for the side effects longer?\n",
    "-> for low medical  effectiveness and high side effects\n",
    "4. Which is the most negative text?\n",
    "-> Show Some of the texts?"
   ]
  },
  {
   "cell_type": "markdown",
   "metadata": {},
   "source": [
    "## Descriptive Statistic\n"
   ]
  },
  {
   "cell_type": "code",
   "execution_count": 20,
   "metadata": {},
   "outputs": [],
   "source": [
    "df_1=pd.read_csv('DrugReview_numbers.csv', sep=',')"
   ]
  },
  {
   "cell_type": "code",
   "execution_count": 21,
   "metadata": {},
   "outputs": [
    {
     "data": {
      "text/plain": [
       "Unnamed: 0      160397\n",
       "Unnamed: 0.1    160397\n",
       "uniqueID        160397\n",
       "drugName          3417\n",
       "condition          811\n",
       "review          112106\n",
       "rating              10\n",
       "date              3579\n",
       "usefulCount        389\n",
       "review1         104844\n",
       "review-list     104844\n",
       "VAD_neg            642\n",
       "VAD_neu            774\n",
       "VADpos             651\n",
       "VAD_compound     16252\n",
       "Ratings              3\n",
       "Ratings_C            3\n",
       "dtype: int64"
      ]
     },
     "execution_count": 21,
     "metadata": {},
     "output_type": "execute_result"
    }
   ],
   "source": [
    "df_1.nunique()"
   ]
  },
  {
   "cell_type": "markdown",
   "metadata": {},
   "source": [
    "#### 1. Does the community has a more positive feeling?\n",
    "#### ->Distribution of ratings -Table and Chart?"
   ]
  },
  {
   "cell_type": "code",
   "execution_count": 23,
   "metadata": {},
   "outputs": [
    {
     "data": {
      "text/html": [
       "<div>\n",
       "<style scoped>\n",
       "    .dataframe tbody tr th:only-of-type {\n",
       "        vertical-align: middle;\n",
       "    }\n",
       "\n",
       "    .dataframe tbody tr th {\n",
       "        vertical-align: top;\n",
       "    }\n",
       "\n",
       "    .dataframe thead th {\n",
       "        text-align: right;\n",
       "    }\n",
       "</style>\n",
       "<table border=\"1\" class=\"dataframe\">\n",
       "  <thead>\n",
       "    <tr style=\"text-align: right;\">\n",
       "      <th></th>\n",
       "      <th>uniqueID</th>\n",
       "      <th>Frequency</th>\n",
       "    </tr>\n",
       "    <tr>\n",
       "      <th>rating</th>\n",
       "      <th></th>\n",
       "      <th></th>\n",
       "    </tr>\n",
       "  </thead>\n",
       "  <tbody>\n",
       "    <tr>\n",
       "      <th>1</th>\n",
       "      <td>21506</td>\n",
       "      <td>13.4</td>\n",
       "    </tr>\n",
       "    <tr>\n",
       "      <th>2</th>\n",
       "      <td>6885</td>\n",
       "      <td>4.3</td>\n",
       "    </tr>\n",
       "    <tr>\n",
       "      <th>3</th>\n",
       "      <td>6470</td>\n",
       "      <td>4.0</td>\n",
       "    </tr>\n",
       "    <tr>\n",
       "      <th>4</th>\n",
       "      <td>4974</td>\n",
       "      <td>3.1</td>\n",
       "    </tr>\n",
       "    <tr>\n",
       "      <th>5</th>\n",
       "      <td>7961</td>\n",
       "      <td>5.0</td>\n",
       "    </tr>\n",
       "    <tr>\n",
       "      <th>6</th>\n",
       "      <td>6296</td>\n",
       "      <td>3.9</td>\n",
       "    </tr>\n",
       "    <tr>\n",
       "      <th>7</th>\n",
       "      <td>9399</td>\n",
       "      <td>5.9</td>\n",
       "    </tr>\n",
       "    <tr>\n",
       "      <th>8</th>\n",
       "      <td>18787</td>\n",
       "      <td>11.7</td>\n",
       "    </tr>\n",
       "    <tr>\n",
       "      <th>9</th>\n",
       "      <td>27371</td>\n",
       "      <td>17.1</td>\n",
       "    </tr>\n",
       "    <tr>\n",
       "      <th>10</th>\n",
       "      <td>50748</td>\n",
       "      <td>31.6</td>\n",
       "    </tr>\n",
       "  </tbody>\n",
       "</table>\n",
       "</div>"
      ],
      "text/plain": [
       "        uniqueID  Frequency\n",
       "rating                     \n",
       "1          21506       13.4\n",
       "2           6885        4.3\n",
       "3           6470        4.0\n",
       "4           4974        3.1\n",
       "5           7961        5.0\n",
       "6           6296        3.9\n",
       "7           9399        5.9\n",
       "8          18787       11.7\n",
       "9          27371       17.1\n",
       "10         50748       31.6"
      ]
     },
     "execution_count": 23,
     "metadata": {},
     "output_type": "execute_result"
    }
   ],
   "source": [
    "distribution= df_1.groupby('rating')[['uniqueID']].count()\n",
    "distribution['Frequency']= round(distribution['uniqueID']/ distribution['uniqueID'].sum()*100,1)\n",
    "distribution"
   ]
  },
  {
   "cell_type": "markdown",
   "metadata": {},
   "source": [
    "#### -> Overall Rating Distribution -Chart"
   ]
  },
  {
   "cell_type": "code",
   "execution_count": 17,
   "metadata": {},
   "outputs": [
    {
     "data": {
      "application/vnd.vegalite.v2+json": {
       "$schema": "https://vega.github.io/schema/vega-lite/v2.6.0.json",
       "config": {
        "view": {
         "height": 300,
         "width": 400
        }
       },
       "data": {
        "name": "data-ac0520297e4e8e01d0e3f0b042359ae8"
       },
       "datasets": {
        "data-ac0520297e4e8e01d0e3f0b042359ae8": [
         {
          "Frequency": 13.4,
          "rating": 1,
          "uniqueID": 21506
         },
         {
          "Frequency": 4.3,
          "rating": 2,
          "uniqueID": 6885
         },
         {
          "Frequency": 4,
          "rating": 3,
          "uniqueID": 6470
         },
         {
          "Frequency": 3.1,
          "rating": 4,
          "uniqueID": 4974
         },
         {
          "Frequency": 5,
          "rating": 5,
          "uniqueID": 7961
         },
         {
          "Frequency": 3.9,
          "rating": 6,
          "uniqueID": 6296
         },
         {
          "Frequency": 5.9,
          "rating": 7,
          "uniqueID": 9399
         },
         {
          "Frequency": 11.7,
          "rating": 8,
          "uniqueID": 18787
         },
         {
          "Frequency": 17.1,
          "rating": 9,
          "uniqueID": 27371
         },
         {
          "Frequency": 31.6,
          "rating": 10,
          "uniqueID": 50748
         }
        ]
       },
       "encoding": {
        "x": {
         "field": "rating",
         "type": "ordinal"
        },
        "y": {
         "field": "Frequency",
         "type": "quantitative"
        }
       },
       "mark": {
        "color": "dimgray",
        "type": "bar"
       },
       "title": "Distribution Ratings of Drugs.com",
       "width": 500
      },
      "image/png": "[encoded data removed]",
      "text/plain": [
       "<VegaLite 2 object>\n",
       "\n",
       "If you see this message, it means the renderer has not been properly enabled\n",
       "for the frontend that you are using. For more information, see\n",
       "https://altair-viz.github.io/user_guide/troubleshooting.html\n"
      ]
     },
     "execution_count": 17,
     "metadata": {},
     "output_type": "execute_result"
    }
   ],
   "source": [
    "alt.Chart(distribution.reset_index(), title = 'Distribution Ratings of Drugs.com').mark_bar(color='dimgray').encode(\n",
    "x=alt.X('rating:O'),\n",
    "y= alt.Y('Frequency:Q')).properties(width=500)"
   ]
  },
  {
   "cell_type": "markdown",
   "metadata": {},
   "source": []
  },
  {
   "cell_type": "markdown",
   "metadata": {},
   "source": [
    "#### 2. What are the most frequent conditions/drugs?"
   ]
  },
  {
   "cell_type": "code",
   "execution_count": 40,
   "metadata": {},
   "outputs": [
    {
     "data": {
      "text/html": [
       "<div>\n",
       "<style scoped>\n",
       "    .dataframe tbody tr th:only-of-type {\n",
       "        vertical-align: middle;\n",
       "    }\n",
       "\n",
       "    .dataframe tbody tr th {\n",
       "        vertical-align: top;\n",
       "    }\n",
       "\n",
       "    .dataframe thead th {\n",
       "        text-align: right;\n",
       "    }\n",
       "</style>\n",
       "<table border=\"1\" class=\"dataframe\">\n",
       "  <thead>\n",
       "    <tr style=\"text-align: right;\">\n",
       "      <th></th>\n",
       "      <th>uniqueID</th>\n",
       "    </tr>\n",
       "    <tr>\n",
       "      <th>condition</th>\n",
       "      <th></th>\n",
       "    </tr>\n",
       "  </thead>\n",
       "  <tbody>\n",
       "    <tr>\n",
       "      <th>Birth Control</th>\n",
       "      <td>28788</td>\n",
       "    </tr>\n",
       "    <tr>\n",
       "      <th>Depression</th>\n",
       "      <td>9069</td>\n",
       "    </tr>\n",
       "    <tr>\n",
       "      <th>Pain</th>\n",
       "      <td>6145</td>\n",
       "    </tr>\n",
       "    <tr>\n",
       "      <th>Anxiety</th>\n",
       "      <td>5904</td>\n",
       "    </tr>\n",
       "    <tr>\n",
       "      <th>Acne</th>\n",
       "      <td>5588</td>\n",
       "    </tr>\n",
       "    <tr>\n",
       "      <th>Bipolar Disorde</th>\n",
       "      <td>4224</td>\n",
       "    </tr>\n",
       "    <tr>\n",
       "      <th>Insomnia</th>\n",
       "      <td>3673</td>\n",
       "    </tr>\n",
       "    <tr>\n",
       "      <th>Weight Loss</th>\n",
       "      <td>3609</td>\n",
       "    </tr>\n",
       "    <tr>\n",
       "      <th>Obesity</th>\n",
       "      <td>3568</td>\n",
       "    </tr>\n",
       "    <tr>\n",
       "      <th>ADHD</th>\n",
       "      <td>3383</td>\n",
       "    </tr>\n",
       "    <tr>\n",
       "      <th>Diabetes, Type 2</th>\n",
       "      <td>2554</td>\n",
       "    </tr>\n",
       "    <tr>\n",
       "      <th>Emergency Contraception</th>\n",
       "      <td>2463</td>\n",
       "    </tr>\n",
       "    <tr>\n",
       "      <th>High Blood Pressure</th>\n",
       "      <td>2321</td>\n",
       "    </tr>\n",
       "    <tr>\n",
       "      <th>Vaginal Yeast Infection</th>\n",
       "      <td>2274</td>\n",
       "    </tr>\n",
       "    <tr>\n",
       "      <th>Abnormal Uterine Bleeding</th>\n",
       "      <td>2096</td>\n",
       "    </tr>\n",
       "    <tr>\n",
       "      <th>Bowel Preparation</th>\n",
       "      <td>1859</td>\n",
       "    </tr>\n",
       "    <tr>\n",
       "      <th>ibromyalgia</th>\n",
       "      <td>1791</td>\n",
       "    </tr>\n",
       "    <tr>\n",
       "      <th>Smoking Cessation</th>\n",
       "      <td>1780</td>\n",
       "    </tr>\n",
       "    <tr>\n",
       "      <th>Migraine</th>\n",
       "      <td>1694</td>\n",
       "    </tr>\n",
       "    <tr>\n",
       "      <th>Anxiety and Stress</th>\n",
       "      <td>1663</td>\n",
       "    </tr>\n",
       "  </tbody>\n",
       "</table>\n",
       "</div>"
      ],
      "text/plain": [
       "                           uniqueID\n",
       "condition                          \n",
       "Birth Control                 28788\n",
       "Depression                     9069\n",
       "Pain                           6145\n",
       "Anxiety                        5904\n",
       "Acne                           5588\n",
       "Bipolar Disorde                4224\n",
       "Insomnia                       3673\n",
       "Weight Loss                    3609\n",
       "Obesity                        3568\n",
       "ADHD                           3383\n",
       "Diabetes, Type 2               2554\n",
       "Emergency Contraception        2463\n",
       "High Blood Pressure            2321\n",
       "Vaginal Yeast Infection        2274\n",
       "Abnormal Uterine Bleeding      2096\n",
       "Bowel Preparation              1859\n",
       "ibromyalgia                    1791\n",
       "Smoking Cessation              1780\n",
       "Migraine                       1694\n",
       "Anxiety and Stress             1663"
      ]
     },
     "execution_count": 40,
     "metadata": {},
     "output_type": "execute_result"
    }
   ],
   "source": [
    "k= df1.groupby('condition')[['uniqueID']].count()\n",
    "k[['uniqueID']].sort_values(by = 'uniqueID',ascending= False)[:20]"
   ]
  },
  {
   "cell_type": "code",
   "execution_count": 41,
   "metadata": {},
   "outputs": [
    {
     "data": {
      "text/html": [
       "<div>\n",
       "<style scoped>\n",
       "    .dataframe tbody tr th:only-of-type {\n",
       "        vertical-align: middle;\n",
       "    }\n",
       "\n",
       "    .dataframe tbody tr th {\n",
       "        vertical-align: top;\n",
       "    }\n",
       "\n",
       "    .dataframe thead th {\n",
       "        text-align: right;\n",
       "    }\n",
       "</style>\n",
       "<table border=\"1\" class=\"dataframe\">\n",
       "  <thead>\n",
       "    <tr style=\"text-align: right;\">\n",
       "      <th></th>\n",
       "      <th>uniqueID</th>\n",
       "    </tr>\n",
       "    <tr>\n",
       "      <th>drugName</th>\n",
       "      <th></th>\n",
       "    </tr>\n",
       "  </thead>\n",
       "  <tbody>\n",
       "    <tr>\n",
       "      <th>Levonorgestrel</th>\n",
       "      <td>3657</td>\n",
       "    </tr>\n",
       "    <tr>\n",
       "      <th>Etonogestrel</th>\n",
       "      <td>3336</td>\n",
       "    </tr>\n",
       "    <tr>\n",
       "      <th>Ethinyl estradiol / norethindrone</th>\n",
       "      <td>2850</td>\n",
       "    </tr>\n",
       "    <tr>\n",
       "      <th>Nexplanon</th>\n",
       "      <td>2149</td>\n",
       "    </tr>\n",
       "    <tr>\n",
       "      <th>Ethinyl estradiol / norgestimate</th>\n",
       "      <td>2117</td>\n",
       "    </tr>\n",
       "    <tr>\n",
       "      <th>Ethinyl estradiol / levonorgestrel</th>\n",
       "      <td>1888</td>\n",
       "    </tr>\n",
       "    <tr>\n",
       "      <th>Phentermine</th>\n",
       "      <td>1543</td>\n",
       "    </tr>\n",
       "    <tr>\n",
       "      <th>Sertraline</th>\n",
       "      <td>1360</td>\n",
       "    </tr>\n",
       "    <tr>\n",
       "      <th>Escitalopram</th>\n",
       "      <td>1292</td>\n",
       "    </tr>\n",
       "    <tr>\n",
       "      <th>Mirena</th>\n",
       "      <td>1219</td>\n",
       "    </tr>\n",
       "    <tr>\n",
       "      <th>Implanon</th>\n",
       "      <td>1095</td>\n",
       "    </tr>\n",
       "    <tr>\n",
       "      <th>Gabapentin</th>\n",
       "      <td>1047</td>\n",
       "    </tr>\n",
       "    <tr>\n",
       "      <th>Bupropion</th>\n",
       "      <td>1022</td>\n",
       "    </tr>\n",
       "    <tr>\n",
       "      <th>Venlafaxine</th>\n",
       "      <td>1016</td>\n",
       "    </tr>\n",
       "    <tr>\n",
       "      <th>Miconazole</th>\n",
       "      <td>1000</td>\n",
       "    </tr>\n",
       "    <tr>\n",
       "      <th>Citalopram</th>\n",
       "      <td>995</td>\n",
       "    </tr>\n",
       "    <tr>\n",
       "      <th>Medroxyprogesterone</th>\n",
       "      <td>995</td>\n",
       "    </tr>\n",
       "    <tr>\n",
       "      <th>Bupropion / naltrexone</th>\n",
       "      <td>950</td>\n",
       "    </tr>\n",
       "    <tr>\n",
       "      <th>Lexapro</th>\n",
       "      <td>947</td>\n",
       "    </tr>\n",
       "    <tr>\n",
       "      <th>Duloxetine</th>\n",
       "      <td>934</td>\n",
       "    </tr>\n",
       "  </tbody>\n",
       "</table>\n",
       "</div>"
      ],
      "text/plain": [
       "                                    uniqueID\n",
       "drugName                                    \n",
       "Levonorgestrel                          3657\n",
       "Etonogestrel                            3336\n",
       "Ethinyl estradiol / norethindrone       2850\n",
       "Nexplanon                               2149\n",
       "Ethinyl estradiol / norgestimate        2117\n",
       "Ethinyl estradiol / levonorgestrel      1888\n",
       "Phentermine                             1543\n",
       "Sertraline                              1360\n",
       "Escitalopram                            1292\n",
       "Mirena                                  1219\n",
       "Implanon                                1095\n",
       "Gabapentin                              1047\n",
       "Bupropion                               1022\n",
       "Venlafaxine                             1016\n",
       "Miconazole                              1000\n",
       "Citalopram                               995\n",
       "Medroxyprogesterone                      995\n",
       "Bupropion / naltrexone                   950\n",
       "Lexapro                                  947\n",
       "Duloxetine                               934"
      ]
     },
     "execution_count": 41,
     "metadata": {},
     "output_type": "execute_result"
    }
   ],
   "source": [
    "k= df1.groupby('drugName')[['uniqueID']].count()\n",
    "k[['uniqueID']].sort_values(by='uniqueID', ascending= False)[:20]"
   ]
  },
  {
   "cell_type": "markdown",
   "metadata": {},
   "source": [
    "####  3.Are there any difference of text length for the ratings?"
   ]
  },
  {
   "cell_type": "code",
   "execution_count": 28,
   "metadata": {},
   "outputs": [
    {
     "data": {
      "text/html": [
       "<div>\n",
       "<style scoped>\n",
       "    .dataframe tbody tr th:only-of-type {\n",
       "        vertical-align: middle;\n",
       "    }\n",
       "\n",
       "    .dataframe tbody tr th {\n",
       "        vertical-align: top;\n",
       "    }\n",
       "\n",
       "    .dataframe thead th {\n",
       "        text-align: right;\n",
       "    }\n",
       "</style>\n",
       "<table border=\"1\" class=\"dataframe\">\n",
       "  <thead>\n",
       "    <tr style=\"text-align: right;\">\n",
       "      <th></th>\n",
       "      <th>Length of Review</th>\n",
       "    </tr>\n",
       "    <tr>\n",
       "      <th>Ratings_C</th>\n",
       "      <th></th>\n",
       "    </tr>\n",
       "  </thead>\n",
       "  <tbody>\n",
       "    <tr>\n",
       "      <th>4 &lt; Rating &lt;7</th>\n",
       "      <td>460.3</td>\n",
       "    </tr>\n",
       "    <tr>\n",
       "      <th>Rating &lt;= 4</th>\n",
       "      <td>459.4</td>\n",
       "    </tr>\n",
       "    <tr>\n",
       "      <th>Rating&gt;=7</th>\n",
       "      <td>458.2</td>\n",
       "    </tr>\n",
       "  </tbody>\n",
       "</table>\n",
       "</div>"
      ],
      "text/plain": [
       "               Length of Review\n",
       "Ratings_C                      \n",
       "4 < Rating <7             460.3\n",
       "Rating <= 4               459.4\n",
       "Rating>=7                 458.2"
      ]
     },
     "execution_count": 28,
     "metadata": {},
     "output_type": "execute_result"
    }
   ],
   "source": [
    "df_1['Length of Review']= df['review'].apply(lambda row: len(row))\n",
    "\n",
    "length= df_1.groupby('Ratings_C')[['Length of Review']].mean()\n",
    "\n",
    "length['Length of Review']= round(length['Length of Review'],1)\n",
    "\n",
    "length"
   ]
  },
  {
   "cell_type": "code",
   "execution_count": 29,
   "metadata": {},
   "outputs": [
    {
     "data": {
      "application/vnd.vegalite.v2+json": {
       "$schema": "https://vega.github.io/schema/vega-lite/v2.6.0.json",
       "config": {
        "view": {
         "height": 300,
         "width": 400
        }
       },
       "data": {
        "name": "data-5ccaa4f94596ac37425fa37882a7f52d"
       },
       "datasets": {
        "data-5ccaa4f94596ac37425fa37882a7f52d": [
         {
          "Length of Review": 460.3,
          "Ratings_C": "4 < Rating <7"
         },
         {
          "Length of Review": 459.4,
          "Ratings_C": "Rating <= 4"
         },
         {
          "Length of Review": 458.2,
          "Ratings_C": "Rating>=7"
         }
        ]
       },
       "encoding": {
        "x": {
         "field": "Length of Review",
         "type": "quantitative"
        },
        "y": {
         "field": "Ratings_C",
         "type": "nominal"
        }
       },
       "height": 200,
       "mark": {
        "color": "dimgray",
        "type": "bar"
       },
       "title": "Avg.Review Length per Rating Category",
       "width": 500
      },
      "image/png": "[encoded data removed]",
      "text/plain": [
       "<VegaLite 2 object>\n",
       "\n",
       "If you see this message, it means the renderer has not been properly enabled\n",
       "for the frontend that you are using. For more information, see\n",
       "https://altair-viz.github.io/user_guide/troubleshooting.html\n"
      ]
     },
     "execution_count": 29,
     "metadata": {},
     "output_type": "execute_result"
    }
   ],
   "source": [
    "alt.Chart(length.reset_index(), title='Avg.Review Length per Rating Category').mark_bar(color='dimgray').encode(\n",
    "x=alt.X('Length of Review:Q'\n",
    "),\n",
    "y=alt.Y('Ratings_C:N')).properties(height=200, width=500)"
   ]
  },
  {
   "cell_type": "markdown",
   "metadata": {},
   "source": [
    "#### No particular difference due to rating, could there be a potential effect in respect to the conditions"
   ]
  },
  {
   "cell_type": "code",
   "execution_count": 44,
   "metadata": {},
   "outputs": [],
   "source": [
    "# Table structure for conditions and ratings\n",
    "conditions=['Birth Control', 'Depression','Pain', 'Anxiety', 'Diabetes, Type 2']\n",
    "condition_df= df_1[df_1['condition'].isin(conditions)]\n",
    "\n",
    "vis_condition_df=condition_df.groupby(['Ratings_C','condition']).agg({'Ratings_C':'count','Length of Review':'mean'})\n",
    "\n",
    "vis_condition_df.rename(columns={'Ratings_C':'Frequency_of Ratings'}, inplace=True)"
   ]
  },
  {
   "cell_type": "code",
   "execution_count": 35,
   "metadata": {},
   "outputs": [
    {
     "data": {
      "application/vnd.vegalite.v2+json": {
       "$schema": "https://vega.github.io/schema/vega-lite/v2.6.0.json",
       "config": {
        "view": {
         "height": 300,
         "width": 400
        }
       },
       "data": {
        "name": "data-4031a9090fbbca71166b649af6162ecc"
       },
       "datasets": {
        "data-4031a9090fbbca71166b649af6162ecc": [
         {
          "Frequency_of Ratings": 358,
          "Length of Review": 474.8072625698324,
          "Ratings_C": "4 < Rating <7",
          "condition": "Anxiety"
         },
         {
          "Frequency_of Ratings": 3589,
          "Length of Review": 458.581499024798,
          "Ratings_C": "4 < Rating <7",
          "condition": "Birth Control"
         },
         {
          "Frequency_of Ratings": 854,
          "Length of Review": 468.155737704918,
          "Ratings_C": "4 < Rating <7",
          "condition": "Depression"
         },
         {
          "Frequency_of Ratings": 287,
          "Length of Review": 446.8780487804878,
          "Ratings_C": "4 < Rating <7",
          "condition": "Diabetes, Type 2"
         },
         {
          "Frequency_of Ratings": 392,
          "Length of Review": 480.51785714285717,
          "Ratings_C": "4 < Rating <7",
          "condition": "Pain"
         },
         {
          "Frequency_of Ratings": 1023,
          "Length of Review": 457.08015640273703,
          "Ratings_C": "Rating <= 4",
          "condition": "Anxiety"
         },
         {
          "Frequency_of Ratings": 10077,
          "Length of Review": 455.497072541431,
          "Ratings_C": "Rating <= 4",
          "condition": "Birth Control"
         },
         {
          "Frequency_of Ratings": 2007,
          "Length of Review": 459.3233682112606,
          "Ratings_C": "Rating <= 4",
          "condition": "Depression"
         },
         {
          "Frequency_of Ratings": 727,
          "Length of Review": 463.52544704264096,
          "Ratings_C": "Rating <= 4",
          "condition": "Diabetes, Type 2"
         },
         {
          "Frequency_of Ratings": 1041,
          "Length of Review": 458.82228626320847,
          "Ratings_C": "Rating <= 4",
          "condition": "Pain"
         },
         {
          "Frequency_of Ratings": 4523,
          "Length of Review": 456.04355516250274,
          "Ratings_C": "Rating>=7",
          "condition": "Anxiety"
         },
         {
          "Frequency_of Ratings": 15122,
          "Length of Review": 457.52982409734165,
          "Ratings_C": "Rating>=7",
          "condition": "Birth Control"
         },
         {
          "Frequency_of Ratings": 6208,
          "Length of Review": 457.487918814433,
          "Ratings_C": "Rating>=7",
          "condition": "Depression"
         },
         {
          "Frequency_of Ratings": 1540,
          "Length of Review": 456.0318181818182,
          "Ratings_C": "Rating>=7",
          "condition": "Diabetes, Type 2"
         },
         {
          "Frequency_of Ratings": 4712,
          "Length of Review": 460.60059422750425,
          "Ratings_C": "Rating>=7",
          "condition": "Pain"
         }
        ]
       },
       "vconcat": [
        {
         "encoding": {
          "color": {
           "value": "dimgrey"
          },
          "x": {
           "aggregate": "sum",
           "field": "Frequency_of Ratings",
           "type": "quantitative"
          },
          "y": {
           "field": "Ratings_C",
           "type": "ordinal"
          }
         },
         "height": 200,
         "mark": "bar",
         "selection": {
          "selector007": {
           "empty": "all",
           "encodings": [
            "y"
           ],
           "nearest": true,
           "on": "mouseover",
           "resolve": "global",
           "type": "single"
          },
          "selector008": {
           "bind": "scales",
           "encodings": [
            "x",
            "y"
           ],
           "mark": {
            "fill": "#333",
            "fillOpacity": 0.125,
            "stroke": "white"
           },
           "on": "[mousedown, window:mouseup] > window:mousemove!",
           "resolve": "global",
           "translate": "[mousedown, window:mouseup] > window:mousemove!",
           "type": "interval",
           "zoom": "wheel!"
          }
         },
         "width": 550
        },
        {
         "encoding": {
          "color": {
           "condition": {
            "selection": "selector007",
            "value": "dimgrey"
           },
           "value": "grey"
          },
          "x": {
           "field": "Length of Review",
           "type": "quantitative"
          },
          "y": {
           "field": "condition",
           "type": "ordinal"
          }
         },
         "height": 200,
         "mark": "bar",
         "selection": {
          "selector007": {
           "empty": "all",
           "encodings": [
            "y"
           ],
           "nearest": true,
           "on": "mouseover",
           "resolve": "global",
           "type": "single"
          }
         },
         "transform": [
          {
           "filter": {
            "selection": "selector007"
           }
          }
         ],
         "width": 550
        }
       ]
      },
      "image/png": "[encoded data removed]",
      "text/plain": [
       "<VegaLite 2 object>\n",
       "\n",
       "If you see this message, it means the renderer has not been properly enabled\n",
       "for the frontend that you are using. For more information, see\n",
       "https://altair-viz.github.io/user_guide/troubleshooting.html\n"
      ]
     },
     "execution_count": 35,
     "metadata": {},
     "output_type": "execute_result"
    }
   ],
   "source": [
    "#Visulalization\n",
    "\n",
    "brush = alt.selection(type='single', encodings=['y'], on='mouseover', nearest=True)\n",
    "\n",
    "main = alt.Chart().mark_bar().encode(\n",
    "x='sum(Frequency_of Ratings)',\n",
    "y= 'Ratings_C:O',\n",
    "color= alt.ColorValue(\"dimgrey\")).add_selection(brush).interactive().properties(width=550, height=200)\n",
    "\n",
    "\n",
    "bars= alt.Chart().mark_bar().encode(\n",
    "y='condition:O',\n",
    "color=alt.condition(brush, alt.ColorValue(\"dimgrey\"), alt.ColorValue(\"grey\")),\n",
    "\n",
    "x='Length of Review').transform_filter(brush).properties(selection=brush, width=550, height=200)\n",
    "\n",
    "alt.vconcat(main, bars, data= vis_condition_df.reset_index(level=[0,1]))"
   ]
  }
 ],
 "metadata": {
  "kernelspec": {
   "display_name": "Python 3",
   "language": "python",
   "name": "python3"
  },
  "language_info": {
   "codemirror_mode": {
    "name": "ipython",
    "version": 3
   },
   "file_extension": ".py",
   "mimetype": "text/x-python",
   "name": "python",
   "nbconvert_exporter": "python",
   "pygments_lexer": "ipython3",
   "version": "3.7.2"
  }
 },
 "nbformat": 4,
 "nbformat_minor": 2
}
