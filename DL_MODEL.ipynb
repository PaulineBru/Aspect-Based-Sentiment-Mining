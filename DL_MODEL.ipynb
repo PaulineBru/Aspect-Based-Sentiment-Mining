{
 "cells": [
  {
   "cell_type": "code",
   "execution_count": 1,
   "metadata": {},
   "outputs": [
    {
     "name": "stderr",
     "output_type": "stream",
     "text": [
      "/anaconda3/lib/python3.7/site-packages/sklearn/ensemble/weight_boosting.py:29: DeprecationWarning: numpy.core.umath_tests is an internal NumPy module and should not be imported. It will be removed in a future NumPy release.\n",
      "  from numpy.core.umath_tests import inner1d\n"
     ]
    }
   ],
   "source": [
    "import pandas as pd\n",
    "import altair as alt\n",
    "import numpy as np\n",
    "from vaderSentiment.vaderSentiment import SentimentIntensityAnalyzer\n",
    "from sklearn.feature_extraction.text import CountVectorizer\n",
    "from gensim import corpora\n",
    "from gensim.models import LsiModel, LdaMulticore\n",
    "from nltk.tokenize import RegexpTokenizer\n",
    "from nltk.corpus import stopwords\n",
    "from nltk.stem.porter import PorterStemmer\n",
    "import nltk\n",
    "import string\n",
    "from sklearn.linear_model import LogisticRegression\n",
    "from sklearn.neighbors import KNeighborsClassifier\n",
    "from sklearn.svm import SVC, LinearSVC, NuSVC\n",
    "from sklearn.tree import DecisionTreeClassifier\n",
    "from sklearn.ensemble import RandomForestClassifier, AdaBoostClassifier, GradientBoostingClassifier\n",
    "from sklearn.naive_bayes import GaussianNB\n",
    "from sklearn.discriminant_analysis import QuadraticDiscriminantAnalysis\n",
    "from sklearn.metrics import accuracy_score\n",
    "from sklearn.feature_extraction.text import CountVectorizer\n",
    "from sklearn.model_selection import train_test_split\n",
    "from catboost import CatBoostClassifier, Pool\n",
    "from sklearn.model_selection import KFold\n",
    "from sklearn.model_selection import cross_val_score\n",
    "from itertools import chain\n",
    "from fuzzywuzzy import fuzz\n",
    "from fuzzywuzzy import process "
   ]
  },
  {
   "cell_type": "markdown",
   "metadata": {},
   "source": [
    "## DataSet Imported From DL_DataExploration"
   ]
  },
  {
   "cell_type": "code",
   "execution_count": 2,
   "metadata": {},
   "outputs": [
    {
     "data": {
      "text/html": [
       "<div>\n",
       "<style scoped>\n",
       "    .dataframe tbody tr th:only-of-type {\n",
       "        vertical-align: middle;\n",
       "    }\n",
       "\n",
       "    .dataframe tbody tr th {\n",
       "        vertical-align: top;\n",
       "    }\n",
       "\n",
       "    .dataframe thead th {\n",
       "        text-align: right;\n",
       "    }\n",
       "</style>\n",
       "<table border=\"1\" class=\"dataframe\">\n",
       "  <thead>\n",
       "    <tr style=\"text-align: right;\">\n",
       "      <th></th>\n",
       "      <th>Unnamed: 0</th>\n",
       "      <th>Unnamed: 0.1</th>\n",
       "      <th>urlDrugName</th>\n",
       "      <th>rating</th>\n",
       "      <th>effectiveness</th>\n",
       "      <th>sideEffects</th>\n",
       "      <th>condition</th>\n",
       "      <th>benefitsReview</th>\n",
       "      <th>sideEffectsReview</th>\n",
       "      <th>commentsReview</th>\n",
       "      <th>Length of Benefits Review</th>\n",
       "      <th>Length of Side Effects Review</th>\n",
       "      <th>review</th>\n",
       "      <th>Length of Review</th>\n",
       "      <th>review1</th>\n",
       "      <th>review-list</th>\n",
       "      <th>VAD_neg</th>\n",
       "      <th>VAD_neu</th>\n",
       "      <th>VADpos</th>\n",
       "      <th>VAD_compound</th>\n",
       "    </tr>\n",
       "  </thead>\n",
       "  <tbody>\n",
       "    <tr>\n",
       "      <th>0</th>\n",
       "      <td>0</td>\n",
       "      <td>2202</td>\n",
       "      <td>enalapril</td>\n",
       "      <td>4</td>\n",
       "      <td>Highly Effective</td>\n",
       "      <td>Moderate Sideeffects</td>\n",
       "      <td>management of congestive heart failure</td>\n",
       "      <td>slowed the progression of left ventricular dys...</td>\n",
       "      <td>cough, hypotension , proteinuria, impotence , ...</td>\n",
       "      <td>monitor blood pressure , weight and asses for ...</td>\n",
       "      <td>184</td>\n",
       "      <td>197</td>\n",
       "      <td>slowed the progression of left ventricular dys...</td>\n",
       "      <td>446</td>\n",
       "      <td>{'neg': 0.316, 'neu': 0.684, 'pos': 0.0, 'comp...</td>\n",
       "      <td>dict_values([0.316, 0.684, 0.0, -0.9571])</td>\n",
       "      <td>0.316</td>\n",
       "      <td>0.684</td>\n",
       "      <td>0.0</td>\n",
       "      <td>-0.9571</td>\n",
       "    </tr>\n",
       "  </tbody>\n",
       "</table>\n",
       "</div>"
      ],
      "text/plain": [
       "   Unnamed: 0  Unnamed: 0.1 urlDrugName  rating     effectiveness  \\\n",
       "0           0          2202   enalapril       4  Highly Effective   \n",
       "\n",
       "            sideEffects                               condition  \\\n",
       "0  Moderate Sideeffects  management of congestive heart failure   \n",
       "\n",
       "                                      benefitsReview  \\\n",
       "0  slowed the progression of left ventricular dys...   \n",
       "\n",
       "                                   sideEffectsReview  \\\n",
       "0  cough, hypotension , proteinuria, impotence , ...   \n",
       "\n",
       "                                      commentsReview  \\\n",
       "0  monitor blood pressure , weight and asses for ...   \n",
       "\n",
       "   Length of Benefits Review  Length of Side Effects Review  \\\n",
       "0                        184                            197   \n",
       "\n",
       "                                              review  Length of Review  \\\n",
       "0  slowed the progression of left ventricular dys...               446   \n",
       "\n",
       "                                             review1  \\\n",
       "0  {'neg': 0.316, 'neu': 0.684, 'pos': 0.0, 'comp...   \n",
       "\n",
       "                                 review-list  VAD_neg  VAD_neu  VADpos  \\\n",
       "0  dict_values([0.316, 0.684, 0.0, -0.9571])    0.316    0.684     0.0   \n",
       "\n",
       "   VAD_compound  \n",
       "0       -0.9571  "
      ]
     },
     "execution_count": 2,
     "metadata": {},
     "output_type": "execute_result"
    }
   ],
   "source": [
    "df_t4=pd.read_csv('DL_1_Vader_Merge.csv',sep=',')\n",
    "df_t4.fillna('', inplace=True)\n",
    "df_t4.head(1)"
   ]
  },
  {
   "cell_type": "code",
   "execution_count": 3,
   "metadata": {},
   "outputs": [],
   "source": [
    "#After Vader Merging , Missing values filled in\n",
    "df_t4.fillna('', inplace=True)"
   ]
  },
  {
   "cell_type": "code",
   "execution_count": 4,
   "metadata": {},
   "outputs": [],
   "source": [
    "labelled= pd.read_csv('Labelled_Data .csv', sep=',', header=None)"
   ]
  },
  {
   "cell_type": "code",
   "execution_count": 5,
   "metadata": {},
   "outputs": [],
   "source": [
    "df_drugsc=pd.read_csv('Final_Drugscom.csv', sep=',')"
   ]
  },
  {
   "cell_type": "code",
   "execution_count": 6,
   "metadata": {},
   "outputs": [
    {
     "data": {
      "text/html": [
       "<div>\n",
       "<style scoped>\n",
       "    .dataframe tbody tr th:only-of-type {\n",
       "        vertical-align: middle;\n",
       "    }\n",
       "\n",
       "    .dataframe tbody tr th {\n",
       "        vertical-align: top;\n",
       "    }\n",
       "\n",
       "    .dataframe thead th {\n",
       "        text-align: right;\n",
       "    }\n",
       "</style>\n",
       "<table border=\"1\" class=\"dataframe\">\n",
       "  <thead>\n",
       "    <tr style=\"text-align: right;\">\n",
       "      <th></th>\n",
       "      <th>Unnamed: 0</th>\n",
       "      <th>Unnamed: 0.1</th>\n",
       "      <th>Unnamed: 0.1.1</th>\n",
       "      <th>uniqueID</th>\n",
       "      <th>drugName</th>\n",
       "      <th>condition</th>\n",
       "      <th>review</th>\n",
       "      <th>rating</th>\n",
       "      <th>date</th>\n",
       "      <th>usefulCount</th>\n",
       "      <th>review1</th>\n",
       "      <th>review-list</th>\n",
       "      <th>VAD_neg</th>\n",
       "      <th>VAD_neu</th>\n",
       "      <th>VADpos</th>\n",
       "      <th>VAD_compound</th>\n",
       "      <th>Ratings</th>\n",
       "      <th>Ratings_C</th>\n",
       "      <th>Rating_Model</th>\n",
       "    </tr>\n",
       "  </thead>\n",
       "  <tbody>\n",
       "    <tr>\n",
       "      <th>0</th>\n",
       "      <td>0</td>\n",
       "      <td>0</td>\n",
       "      <td>0</td>\n",
       "      <td>206461</td>\n",
       "      <td>Valsartan</td>\n",
       "      <td>Left Ventricular Dysfunction</td>\n",
       "      <td>\"It has no side effect, I take it in combinati...</td>\n",
       "      <td>9</td>\n",
       "      <td>20-May-12</td>\n",
       "      <td>27</td>\n",
       "      <td>{'neg': 0.136, 'neu': 0.864, 'pos': 0.0, 'comp...</td>\n",
       "      <td>dict_values([0.136, 0.864, 0.0, -0.296])</td>\n",
       "      <td>0.136</td>\n",
       "      <td>0.864</td>\n",
       "      <td>0.0</td>\n",
       "      <td>-0.296</td>\n",
       "      <td>1</td>\n",
       "      <td>Rating&gt;=7</td>\n",
       "      <td>2</td>\n",
       "    </tr>\n",
       "  </tbody>\n",
       "</table>\n",
       "</div>"
      ],
      "text/plain": [
       "   Unnamed: 0  Unnamed: 0.1  Unnamed: 0.1.1  uniqueID   drugName  \\\n",
       "0           0             0               0    206461  Valsartan   \n",
       "\n",
       "                      condition  \\\n",
       "0  Left Ventricular Dysfunction   \n",
       "\n",
       "                                              review  rating       date  \\\n",
       "0  \"It has no side effect, I take it in combinati...       9  20-May-12   \n",
       "\n",
       "   usefulCount                                            review1  \\\n",
       "0           27  {'neg': 0.136, 'neu': 0.864, 'pos': 0.0, 'comp...   \n",
       "\n",
       "                                review-list  VAD_neg  VAD_neu  VADpos  \\\n",
       "0  dict_values([0.136, 0.864, 0.0, -0.296])    0.136    0.864     0.0   \n",
       "\n",
       "   VAD_compound  Ratings  Ratings_C  Rating_Model  \n",
       "0        -0.296        1  Rating>=7             2  "
      ]
     },
     "execution_count": 6,
     "metadata": {},
     "output_type": "execute_result"
    }
   ],
   "source": [
    "df_drugsc.head(1)"
   ]
  },
  {
   "cell_type": "markdown",
   "metadata": {},
   "source": [
    "# Cleaning Data- Forlmula\n",
    "    "
   ]
  },
  {
   "cell_type": "code",
   "execution_count": 7,
   "metadata": {},
   "outputs": [],
   "source": [
    "def preprocess_data(doc_set):\n",
    "    \"\"\"\n",
    "    Input  : Reviews which is a nested list of tweets. \n",
    "    \n",
    "    Purpose: preprocess text (tokenize, removing stopwords, and stemming)\n",
    "    \n",
    "    Output : preprocessed text\n",
    "    \"\"\"\n",
    "    \n",
    "    \n",
    "    # initialize regex tokenizer\n",
    "    tokenizer = RegexpTokenizer(r'\\w+')\n",
    "    # create English stop words list\n",
    "    en_stop = set(stopwords.words('english'))\n",
    "    # Create p_stemmer of class PorterStemmer\n",
    "    p_stemmer = PorterStemmer()\n",
    "    # list for tokenized documents in loop\n",
    "    texts = []\n",
    "    # loop through document list\n",
    "    for i in doc_set:\n",
    "        # clean and tokenize document string\n",
    "        raw = i.lower()\n",
    "        tokens = tokenizer.tokenize(raw)\n",
    "        #remove punctuation\n",
    "        table = str.maketrans('', '', string.punctuation)\n",
    "        stripped = [w.translate(table) for w in tokens]\n",
    "        #remove http\n",
    "        removed_http = [i for i in stripped if not i.startswith('http')]\n",
    "        #domain-specific words which should be removed\n",
    "        prefixes = ('rt','cnn','nyt','nbc','time','wsj','who','cdc','stefaniei')\n",
    "        newlist = [x for x in removed_http if not x.startswith(prefixes)]\n",
    "\n",
    "        # remove stop words from tokens\n",
    "        stopped_tokens = [i for i in newlist if not i in en_stop and len(i)>3]\n",
    "        # stem tokens\n",
    "        stemmed_tokens = [p_stemmer.stem(i) for i in stopped_tokens]\n",
    "        \n",
    "        # add tokens to list\n",
    "        texts.append(stemmed_tokens)\n",
    "    return texts\n",
    "\n"
   ]
  },
  {
   "cell_type": "markdown",
   "metadata": {},
   "source": [
    "### --> Creating Corpi from the reviews"
   ]
  },
  {
   "cell_type": "code",
   "execution_count": 8,
   "metadata": {},
   "outputs": [],
   "source": [
    "benefit_corpus =[i for i in df_t4['benefitsReview']]\n",
    "sideeffect_corpus =[i for i in df_t4['sideEffectsReview']]\n",
    "total_review= [i for i in df_t4['review']]\n",
    "labelled_corpus= [i for i in labelled[1]]\n",
    "drugscomreview_corpus =[i for i in df_drugsc['review']]\n",
    "\n",
    "\n",
    "benefit_tokenized = preprocess_data(benefit_corpus)\n",
    "sideeffect_tokenized = preprocess_data(sideeffect_corpus)\n",
    "total_review_tokenized = preprocess_data(total_review)\n",
    "labelled_tokenized = preprocess_data(labelled_corpus)\n",
    "drugscomreview_tokenized = preprocess_data(drugscomreview_corpus)\n",
    "\n",
    "\n",
    "df_t4['benefit_tokenized']= benefit_tokenized \n",
    "df_t4['benefit_tokenized']= df_t4['benefit_tokenized'].apply(lambda row: ' '.join(row))\n",
    "df_t4['sideeffect_tokenized']= sideeffect_tokenized  \n",
    "df_t4['sideeffect_tokenized']= df_t4['sideeffect_tokenized'].apply(lambda row: ' '.join(row)) \n",
    "df_t4['review_tokenized']= total_review_tokenized \n",
    "df_t4['review_tokenized']= df_t4['review_tokenized'].apply(lambda row: ' '.join(row)) \n",
    "df_drugsc['review_tokenized']= drugscomreview_tokenized\n",
    "df_drugsc['review_tokenized']= df_drugsc['review_tokenized'].apply(lambda row: ' '.join(row))\n",
    "\n",
    "label= pd.DataFrame()\n",
    "label['labelled_tokenized']=labelled_tokenized\n",
    "\n",
    "label['labelled_tokenized']= label['labelled_tokenized'].apply(lambda row: ' '.join(row)) \n",
    "\n",
    "\n"
   ]
  },
  {
   "cell_type": "code",
   "execution_count": 9,
   "metadata": {},
   "outputs": [
    {
     "data": {
      "text/html": [
       "<div>\n",
       "<style scoped>\n",
       "    .dataframe tbody tr th:only-of-type {\n",
       "        vertical-align: middle;\n",
       "    }\n",
       "\n",
       "    .dataframe tbody tr th {\n",
       "        vertical-align: top;\n",
       "    }\n",
       "\n",
       "    .dataframe thead th {\n",
       "        text-align: right;\n",
       "    }\n",
       "</style>\n",
       "<table border=\"1\" class=\"dataframe\">\n",
       "  <thead>\n",
       "    <tr style=\"text-align: right;\">\n",
       "      <th></th>\n",
       "      <th>Unnamed: 0</th>\n",
       "      <th>Unnamed: 0.1</th>\n",
       "      <th>urlDrugName</th>\n",
       "      <th>rating</th>\n",
       "      <th>effectiveness</th>\n",
       "      <th>sideEffects</th>\n",
       "      <th>condition</th>\n",
       "      <th>benefitsReview</th>\n",
       "      <th>sideEffectsReview</th>\n",
       "      <th>commentsReview</th>\n",
       "      <th>...</th>\n",
       "      <th>Length of Review</th>\n",
       "      <th>review1</th>\n",
       "      <th>review-list</th>\n",
       "      <th>VAD_neg</th>\n",
       "      <th>VAD_neu</th>\n",
       "      <th>VADpos</th>\n",
       "      <th>VAD_compound</th>\n",
       "      <th>benefit_tokenized</th>\n",
       "      <th>sideeffect_tokenized</th>\n",
       "      <th>review_tokenized</th>\n",
       "    </tr>\n",
       "  </thead>\n",
       "  <tbody>\n",
       "    <tr>\n",
       "      <th>0</th>\n",
       "      <td>0</td>\n",
       "      <td>2202</td>\n",
       "      <td>enalapril</td>\n",
       "      <td>4</td>\n",
       "      <td>Highly Effective</td>\n",
       "      <td>Moderate Sideeffects</td>\n",
       "      <td>management of congestive heart failure</td>\n",
       "      <td>slowed the progression of left ventricular dys...</td>\n",
       "      <td>cough, hypotension , proteinuria, impotence , ...</td>\n",
       "      <td>monitor blood pressure , weight and asses for ...</td>\n",
       "      <td>...</td>\n",
       "      <td>446</td>\n",
       "      <td>{'neg': 0.316, 'neu': 0.684, 'pos': 0.0, 'comp...</td>\n",
       "      <td>dict_values([0.316, 0.684, 0.0, -0.9571])</td>\n",
       "      <td>0.316</td>\n",
       "      <td>0.684</td>\n",
       "      <td>0.0</td>\n",
       "      <td>-0.9571</td>\n",
       "      <td>slow progress left ventricular dysfunct overt ...</td>\n",
       "      <td>cough hypotens proteinuria impot renal failur ...</td>\n",
       "      <td>slow progress left ventricular dysfunct overt ...</td>\n",
       "    </tr>\n",
       "  </tbody>\n",
       "</table>\n",
       "<p>1 rows × 23 columns</p>\n",
       "</div>"
      ],
      "text/plain": [
       "   Unnamed: 0  Unnamed: 0.1 urlDrugName  rating     effectiveness  \\\n",
       "0           0          2202   enalapril       4  Highly Effective   \n",
       "\n",
       "            sideEffects                               condition  \\\n",
       "0  Moderate Sideeffects  management of congestive heart failure   \n",
       "\n",
       "                                      benefitsReview  \\\n",
       "0  slowed the progression of left ventricular dys...   \n",
       "\n",
       "                                   sideEffectsReview  \\\n",
       "0  cough, hypotension , proteinuria, impotence , ...   \n",
       "\n",
       "                                      commentsReview  \\\n",
       "0  monitor blood pressure , weight and asses for ...   \n",
       "\n",
       "                         ...                          Length of Review  \\\n",
       "0                        ...                                       446   \n",
       "\n",
       "                                             review1  \\\n",
       "0  {'neg': 0.316, 'neu': 0.684, 'pos': 0.0, 'comp...   \n",
       "\n",
       "                                 review-list  VAD_neg VAD_neu VADpos  \\\n",
       "0  dict_values([0.316, 0.684, 0.0, -0.9571])    0.316   0.684    0.0   \n",
       "\n",
       "   VAD_compound                                  benefit_tokenized  \\\n",
       "0       -0.9571  slow progress left ventricular dysfunct overt ...   \n",
       "\n",
       "                                sideeffect_tokenized  \\\n",
       "0  cough hypotens proteinuria impot renal failur ...   \n",
       "\n",
       "                                    review_tokenized  \n",
       "0  slow progress left ventricular dysfunct overt ...  \n",
       "\n",
       "[1 rows x 23 columns]"
      ]
     },
     "execution_count": 9,
     "metadata": {},
     "output_type": "execute_result"
    }
   ],
   "source": [
    "df_t4.head(1)"
   ]
  },
  {
   "cell_type": "markdown",
   "metadata": {},
   "source": [
    "### Transforming the side effects into new data sets"
   ]
  },
  {
   "cell_type": "code",
   "execution_count": 10,
   "metadata": {},
   "outputs": [],
   "source": [
    "# What \n",
    "replacing= ['No Sideeffects','Moderate Sideeffects', 'High SideEffects']\n",
    "for i, idx in enumerate(replacing):\n",
    "    df_t4['sideEffects'].replace(to_replace=idx, value= i, inplace=True)\n",
    "    \n",
    "    \n",
    "replacing= ['Ineffective','Moderate Effect', 'Highly Effective']\n",
    "for i, idx in enumerate(replacing):\n",
    "    df_t4['effectiveness'].replace(to_replace=idx, value= i, inplace=True)    \n",
    "    \n",
    "rating_rating= [[1,2,3,4], [5,6],[7,8,9,10]]\n",
    "\n",
    "for i, idx in enumerate(rating_rating):\n",
    "    df_t4['rating'].replace(to_replace=idx, value = i, inplace=True)    \n",
    "    "
   ]
  },
  {
   "cell_type": "code",
   "execution_count": 11,
   "metadata": {},
   "outputs": [
    {
     "data": {
      "text/plain": [
       "[0, 2, 1]"
      ]
     },
     "execution_count": 11,
     "metadata": {},
     "output_type": "execute_result"
    }
   ],
   "source": [
    "# Inserting the other Data into the frame\n",
    "list(df_t4['rating'].unique())"
   ]
  },
  {
   "cell_type": "markdown",
   "metadata": {},
   "source": [
    "# Model Building "
   ]
  },
  {
   "cell_type": "markdown",
   "metadata": {},
   "source": [
    "### Inserting the newly labbeled data and Creating the TRAIN, TEST, SPLITT"
   ]
  },
  {
   "cell_type": "markdown",
   "metadata": {},
   "source": [
    "###  NOT USED-Another Way of Using Models "
   ]
  },
  {
   "cell_type": "raw",
   "metadata": {},
   "source": [
    "labelled= pd.read_csv('Labelled_Data .csv', sep=',', header=None)\n",
    "\n",
    "X_Ltest, Y_Ltest= (labelled[1], labelled[2]) \n",
    "\n",
    "XlS_train, XlS_test, ylS_train, ylS_test = train_test_split( df_t4['sideeffect_tokenized'], df_t4['sideEffects'], test_size=0.33, random_state=42)\n",
    "XlE_train, XlE_test, ylE_train, ylE_test = train_test_split( df_t4['benefit_tokenized'], df_t4['effectiveness'], test_size=0.33, random_state=42)\n",
    "XlR_train, XlR_test, ylR_train, ylR_test = train_test_split( df_t4['review_tokenized'], df_t4['rating'], test_size=0.33, random_state=42)\n",
    "\n",
    "#Notation: X- upper case, y- lower case, l- lib drugslib.com, d- drugs.com, S- sideeffect, E-effectiveness, R, Rating\n",
    "## Labelled Data of 33,792 words 179,161 characters, 100 pages of a novel-> What should be done that \n",
    "\n",
    "\n",
    "InputVectors = [(XlS_train, XlS_test, ylS_train, ylS_test ), (XlE_train, XlE_test, ylE_train, ylE_test), (XlS_train, X_Ltest, ylS_train, Y_Ltest), (XlR_train, XlR_test, ylR_train, ylR_test) ]\n",
    "\n",
    "# Testing Notes Aspects: Sideeffect\n",
    "\n",
    "testing_notes= ['\\n Aspects:  Sideseffects\\n Train Source: Druglib.com\\n Test Source: Druglib.com\\n' ,\n",
    "               '\\n Aspects:  Effectiveness\\n Train Source: Druglib.com\\n Test Source: Druglib.com\\n ',\n",
    "               '\\n Aspects:  Sideeffects\\n Train Source: Druglib.com\\n Test Source: Drug.com\\n ',\n",
    "               '\\n ------CROSS-DATA-ANALYSIS-------\\n\\n Aspects:  TotalReview\\n Train Source: Druglib.com\\n Test Source: Drug.com\\n ',]\n",
    "\n",
    "\n",
    "\n",
    "Classifiers = [\n",
    "            LogisticRegression(C=0.000000001,solver='liblinear',max_iter=200),\n",
    "            KNeighborsClassifier(3),\n",
    "            SVC(kernel=\"rbf\", C=0.025, probability=True),\n",
    "            DecisionTreeClassifier(),\n",
    "            RandomForestClassifier(n_estimators=200),\n",
    "            AdaBoostClassifier(),\n",
    "            GaussianNB(),\n",
    "        GradientBoostingClassifier(),\n",
    "        CatBoostClassifier(iterations=5)]\n",
    "\n",
    "v = CountVectorizer(analyzer = \"word\", ngram_range= (1,2), min_df=1)\n",
    "\n",
    " \n",
    "\n",
    " \n",
    "for i , (X_train, X_test, y_train, y_test) in zip(testing_notes, InputVectors):\n",
    "        print('-'*100)\n",
    "        print(i)\n",
    "        print('-'*100)\n",
    "        \n",
    "        train_features= v.fit_transform(X_train)\n",
    "\n",
    "        test_features=v.transform(X_test)\n",
    "        dense_features=train_features.toarray()\n",
    "        dense_test= test_features.toarray()\n",
    "        for classifier in Classifiers:\n",
    "            try:\n",
    "                fit = classifier.fit(train_features,y_train)\n",
    "                pred = fit.predict(test_features)\n",
    "            except Exception:\n",
    "                fit = classifier.fit(dense_features,y_train)\n",
    "                pred = fit.predict(dense_test)\n",
    "            accuracy = accuracy_score(pred,y_test)\n",
    "            print('Accuracy of '+classifier.__class__.__name__+'is '+str(accuracy))    \n"
   ]
  },
  {
   "cell_type": "markdown",
   "metadata": {},
   "source": []
  },
  {
   "cell_type": "raw",
   "metadata": {},
   "source": [
    "#pd.set_option('display.max_colwidth', -1)"
   ]
  },
  {
   "cell_type": "code",
   "execution_count": 12,
   "metadata": {},
   "outputs": [
    {
     "data": {
      "text/html": [
       "<div>\n",
       "<style scoped>\n",
       "    .dataframe tbody tr th:only-of-type {\n",
       "        vertical-align: middle;\n",
       "    }\n",
       "\n",
       "    .dataframe tbody tr th {\n",
       "        vertical-align: top;\n",
       "    }\n",
       "\n",
       "    .dataframe thead th {\n",
       "        text-align: right;\n",
       "    }\n",
       "</style>\n",
       "<table border=\"1\" class=\"dataframe\">\n",
       "  <thead>\n",
       "    <tr style=\"text-align: right;\">\n",
       "      <th></th>\n",
       "      <th>Unnamed: 0</th>\n",
       "      <th>Unnamed: 0.1</th>\n",
       "      <th>Unnamed: 0.1.1</th>\n",
       "      <th>uniqueID</th>\n",
       "      <th>drugName</th>\n",
       "      <th>condition</th>\n",
       "      <th>review</th>\n",
       "      <th>rating</th>\n",
       "      <th>date</th>\n",
       "      <th>usefulCount</th>\n",
       "      <th>review1</th>\n",
       "      <th>review-list</th>\n",
       "      <th>VAD_neg</th>\n",
       "      <th>VAD_neu</th>\n",
       "      <th>VADpos</th>\n",
       "      <th>VAD_compound</th>\n",
       "      <th>Ratings</th>\n",
       "      <th>Ratings_C</th>\n",
       "      <th>Rating_Model</th>\n",
       "      <th>review_tokenized</th>\n",
       "    </tr>\n",
       "  </thead>\n",
       "  <tbody>\n",
       "    <tr>\n",
       "      <th>0</th>\n",
       "      <td>0</td>\n",
       "      <td>0</td>\n",
       "      <td>0</td>\n",
       "      <td>206461</td>\n",
       "      <td>Valsartan</td>\n",
       "      <td>Left Ventricular Dysfunction</td>\n",
       "      <td>\"It has no side effect, I take it in combinati...</td>\n",
       "      <td>9</td>\n",
       "      <td>20-May-12</td>\n",
       "      <td>27</td>\n",
       "      <td>{'neg': 0.136, 'neu': 0.864, 'pos': 0.0, 'comp...</td>\n",
       "      <td>dict_values([0.136, 0.864, 0.0, -0.296])</td>\n",
       "      <td>0.136</td>\n",
       "      <td>0.864</td>\n",
       "      <td>0.000</td>\n",
       "      <td>-0.2960</td>\n",
       "      <td>1</td>\n",
       "      <td>Rating&gt;=7</td>\n",
       "      <td>2</td>\n",
       "      <td>side effect take combin bystol fish</td>\n",
       "    </tr>\n",
       "    <tr>\n",
       "      <th>1</th>\n",
       "      <td>1</td>\n",
       "      <td>1</td>\n",
       "      <td>1</td>\n",
       "      <td>95260</td>\n",
       "      <td>Guanfacine</td>\n",
       "      <td>ADHD</td>\n",
       "      <td>\"My son is halfway through his fourth week of ...</td>\n",
       "      <td>8</td>\n",
       "      <td>27-Apr-10</td>\n",
       "      <td>192</td>\n",
       "      <td>{'neg': 0.018, 'neu': 0.892, 'pos': 0.09, 'com...</td>\n",
       "      <td>dict_values([0.018, 0.892, 0.09, 0.8603])</td>\n",
       "      <td>0.018</td>\n",
       "      <td>0.892</td>\n",
       "      <td>0.090</td>\n",
       "      <td>0.8603</td>\n",
       "      <td>1</td>\n",
       "      <td>Rating&gt;=7</td>\n",
       "      <td>2</td>\n",
       "      <td>halfway fourth week intuniv becam concern bega...</td>\n",
       "    </tr>\n",
       "    <tr>\n",
       "      <th>2</th>\n",
       "      <td>2</td>\n",
       "      <td>2</td>\n",
       "      <td>2</td>\n",
       "      <td>92703</td>\n",
       "      <td>Lybrel</td>\n",
       "      <td>Birth Control</td>\n",
       "      <td>\"I used to take another oral contraceptive, wh...</td>\n",
       "      <td>5</td>\n",
       "      <td>14-Dec-09</td>\n",
       "      <td>17</td>\n",
       "      <td>{'neg': 0.041, 'neu': 0.876, 'pos': 0.084, 'co...</td>\n",
       "      <td>dict_values([0.041, 0.876, 0.084, 0.7962])</td>\n",
       "      <td>0.041</td>\n",
       "      <td>0.876</td>\n",
       "      <td>0.084</td>\n",
       "      <td>0.7962</td>\n",
       "      <td>0</td>\n",
       "      <td>4 &lt; Rating &lt;7</td>\n",
       "      <td>1</td>\n",
       "      <td>use take anoth oral contracept pill cycl happi...</td>\n",
       "    </tr>\n",
       "    <tr>\n",
       "      <th>3</th>\n",
       "      <td>3</td>\n",
       "      <td>3</td>\n",
       "      <td>3</td>\n",
       "      <td>138000</td>\n",
       "      <td>Ortho Evra</td>\n",
       "      <td>Birth Control</td>\n",
       "      <td>\"This is my first time using any form of birth...</td>\n",
       "      <td>8</td>\n",
       "      <td>3-Nov-15</td>\n",
       "      <td>10</td>\n",
       "      <td>{'neg': 0.027, 'neu': 0.879, 'pos': 0.093, 'co...</td>\n",
       "      <td>dict_values([0.027, 0.879, 0.093, 0.7184])</td>\n",
       "      <td>0.027</td>\n",
       "      <td>0.879</td>\n",
       "      <td>0.093</td>\n",
       "      <td>0.7184</td>\n",
       "      <td>1</td>\n",
       "      <td>Rating&gt;=7</td>\n",
       "      <td>2</td>\n",
       "      <td>first use form birth control glad went patch m...</td>\n",
       "    </tr>\n",
       "    <tr>\n",
       "      <th>4</th>\n",
       "      <td>4</td>\n",
       "      <td>4</td>\n",
       "      <td>4</td>\n",
       "      <td>35696</td>\n",
       "      <td>Buprenorphine / naloxone</td>\n",
       "      <td>Opiate Dependence</td>\n",
       "      <td>\"Suboxone has completely turned my life around...</td>\n",
       "      <td>9</td>\n",
       "      <td>27-Nov-16</td>\n",
       "      <td>37</td>\n",
       "      <td>{'neg': 0.064, 'neu': 0.758, 'pos': 0.178, 'co...</td>\n",
       "      <td>dict_values([0.064, 0.758, 0.178, 0.9403])</td>\n",
       "      <td>0.064</td>\n",
       "      <td>0.758</td>\n",
       "      <td>0.178</td>\n",
       "      <td>0.9403</td>\n",
       "      <td>1</td>\n",
       "      <td>Rating&gt;=7</td>\n",
       "      <td>2</td>\n",
       "      <td>suboxon complet turn life around feel healthie...</td>\n",
       "    </tr>\n",
       "  </tbody>\n",
       "</table>\n",
       "</div>"
      ],
      "text/plain": [
       "   Unnamed: 0  Unnamed: 0.1  Unnamed: 0.1.1  uniqueID  \\\n",
       "0           0             0               0    206461   \n",
       "1           1             1               1     95260   \n",
       "2           2             2               2     92703   \n",
       "3           3             3               3    138000   \n",
       "4           4             4               4     35696   \n",
       "\n",
       "                   drugName                     condition  \\\n",
       "0                 Valsartan  Left Ventricular Dysfunction   \n",
       "1                Guanfacine                          ADHD   \n",
       "2                    Lybrel                 Birth Control   \n",
       "3                Ortho Evra                 Birth Control   \n",
       "4  Buprenorphine / naloxone             Opiate Dependence   \n",
       "\n",
       "                                              review  rating       date  \\\n",
       "0  \"It has no side effect, I take it in combinati...       9  20-May-12   \n",
       "1  \"My son is halfway through his fourth week of ...       8  27-Apr-10   \n",
       "2  \"I used to take another oral contraceptive, wh...       5  14-Dec-09   \n",
       "3  \"This is my first time using any form of birth...       8   3-Nov-15   \n",
       "4  \"Suboxone has completely turned my life around...       9  27-Nov-16   \n",
       "\n",
       "   usefulCount                                            review1  \\\n",
       "0           27  {'neg': 0.136, 'neu': 0.864, 'pos': 0.0, 'comp...   \n",
       "1          192  {'neg': 0.018, 'neu': 0.892, 'pos': 0.09, 'com...   \n",
       "2           17  {'neg': 0.041, 'neu': 0.876, 'pos': 0.084, 'co...   \n",
       "3           10  {'neg': 0.027, 'neu': 0.879, 'pos': 0.093, 'co...   \n",
       "4           37  {'neg': 0.064, 'neu': 0.758, 'pos': 0.178, 'co...   \n",
       "\n",
       "                                  review-list  VAD_neg  VAD_neu  VADpos  \\\n",
       "0    dict_values([0.136, 0.864, 0.0, -0.296])    0.136    0.864   0.000   \n",
       "1   dict_values([0.018, 0.892, 0.09, 0.8603])    0.018    0.892   0.090   \n",
       "2  dict_values([0.041, 0.876, 0.084, 0.7962])    0.041    0.876   0.084   \n",
       "3  dict_values([0.027, 0.879, 0.093, 0.7184])    0.027    0.879   0.093   \n",
       "4  dict_values([0.064, 0.758, 0.178, 0.9403])    0.064    0.758   0.178   \n",
       "\n",
       "   VAD_compound  Ratings      Ratings_C  Rating_Model  \\\n",
       "0       -0.2960        1      Rating>=7             2   \n",
       "1        0.8603        1      Rating>=7             2   \n",
       "2        0.7962        0  4 < Rating <7             1   \n",
       "3        0.7184        1      Rating>=7             2   \n",
       "4        0.9403        1      Rating>=7             2   \n",
       "\n",
       "                                    review_tokenized  \n",
       "0                side effect take combin bystol fish  \n",
       "1  halfway fourth week intuniv becam concern bega...  \n",
       "2  use take anoth oral contracept pill cycl happi...  \n",
       "3  first use form birth control glad went patch m...  \n",
       "4  suboxon complet turn life around feel healthie...  "
      ]
     },
     "execution_count": 12,
     "metadata": {},
     "output_type": "execute_result"
    }
   ],
   "source": [
    "df_drugsc.head() "
   ]
  },
  {
   "cell_type": "markdown",
   "metadata": {},
   "source": [
    "###  CSV-Creation After Cleaning of Data - Before Model"
   ]
  },
  {
   "cell_type": "code",
   "execution_count": 13,
   "metadata": {},
   "outputs": [],
   "source": [
    "#df_t4.to_csv('Colab_drugs.com.csv')\n",
    "\n"
   ]
  },
  {
   "cell_type": "code",
   "execution_count": 14,
   "metadata": {},
   "outputs": [
    {
     "name": "stdout",
     "output_type": "stream",
     "text": [
      "36895\n",
      "LogisticRegressio: 0.746702 (0.009377)\n",
      "36895\n",
      "KNeighborsClassifier: 0.553593 (0.034130)\n",
      "36895\n",
      "SVC: 0.525575 (0.020667)\n",
      "36895\n",
      "RandomForestClassifier: 0.696166 (0.016075)\n",
      "36895\n",
      "AdaBoostClassifier: 0.712264 (0.013041)\n",
      "43005\n",
      "LogisticRegressio: 0.765365 (0.019568)\n",
      "43005\n",
      "KNeighborsClassifier: 0.645988 (0.067616)\n",
      "43005\n",
      "SVC: 0.726744 (0.020020)\n",
      "43005\n",
      "RandomForestClassifier: 0.749276 (0.016768)\n",
      "43005\n",
      "AdaBoostClassifier: 0.741874 (0.014660)\n",
      "116867\n",
      "LogisticRegressio: 0.746064 (0.020169)\n",
      "116867\n",
      "KNeighborsClassifier: 0.666575 (0.029578)\n",
      "116867\n",
      "SVC: 0.685553 (0.017835)\n",
      "116867\n",
      "RandomForestClassifier: 0.693604 (0.019406)\n",
      "116867\n",
      "AdaBoostClassifier: 0.684267 (0.016061)\n"
     ]
    }
   ],
   "source": [
    "X_list= [df_t4['sideeffect_tokenized'], df_t4['benefit_tokenized'],df_t4['review_tokenized']]\n",
    "Y_list=[df_t4['sideEffects'], df_t4['effectiveness'], df_t4['rating']]\n",
    "\n",
    "\n",
    "v = CountVectorizer(analyzer = \"word\", ngram_range= (1,2))\n",
    "\n",
    "Classifiers_1 = [\n",
    "            LogisticRegression(),\n",
    "            KNeighborsClassifier(3),\n",
    "            SVC(kernel=\"rbf\"),\n",
    "            RandomForestClassifier(),\n",
    "            AdaBoostClassifier(),\n",
    "]\n",
    "\n",
    "title=['LogisticRegressio','KNeighborsClassifier','SVC','RandomForestClassifier','AdaBoostClassifier']\n",
    "results = []\n",
    "names = []\n",
    "scoring = 'accuracy'\n",
    "\n",
    "for X_fact, Y_fact in zip( X_list, Y_list):\n",
    "    X_train=X_fact\n",
    "    Y= Y_fact\n",
    "    X= v.fit_transform(X_train)\n",
    "    \n",
    "    for name, model in zip(title,Classifiers_1):\n",
    "        kfold = KFold(n_splits=5, random_state=42)\n",
    "        cv_results = cross_val_score(model, X, Y, cv=kfold, scoring=scoring)\n",
    "        results.append(cv_results)\n",
    "        names.append(name)\n",
    "        print(len(v.vocabulary_))\n",
    " \n",
    "        msg = \"%s: %f (%f)\" % (name, cv_results.mean(), cv_results.std())\n",
    "        print(msg)\n",
    "            "
   ]
  },
  {
   "cell_type": "markdown",
   "metadata": {},
   "source": [
    "###MUSS IN GOOGLE COLAB GEMACHT WERDEN\n",
    "\n",
    "\n",
    "X_list= df_drugsc['review_tokenized']\n",
    "Y_list=df_drugsc['Rating_Model']\n",
    "\n",
    "\n",
    "\n",
    "v = CountVectorizer(analyzer = \"word\", ngram_range= (1,2))\n",
    "\n",
    "Classifiers_1 = [\n",
    "            LogisticRegression(),\n",
    "            KNeighborsClassifier(3),\n",
    "            SVC(kernel=\"rbf\"),\n",
    "            RandomForestClassifier(),\n",
    "            AdaBoostClassifier(),\n",
    "]\n",
    "\n",
    "title=['LogisticRegressio','KNeighborsClassifier','SVC','RandomForestClassifier','AdaBoostClassifier']\n",
    "results = []\n",
    "names = []\n",
    "scoring = 'accuracy'\n",
    "\n",
    "X= v.fit_transform(X_list)\n",
    "\n",
    "for name, model in zip(title,Classifiers_1):\n",
    "    kfold = KFold(n_splits=5, random_state=42)\n",
    "    cv_results = cross_val_score(model, X, Y_list, cv=kfold, scoring=scoring)\n",
    "    results.append(cv_results)\n",
    "    names.append(name)\n",
    "    print(len(v.vocabulary_))\n",
    "\n",
    "    msg = \"%s: %f (%f)\" % (name, cv_results.mean(), cv_results.std())\n",
    "    print(msg)\n",
    "\n"
   ]
  },
  {
   "cell_type": "markdown",
   "metadata": {},
   "source": [
    "### CROSS-DATA * DrugLib -> Drugs.com |SideEffects"
   ]
  },
  {
   "cell_type": "code",
   "execution_count": 15,
   "metadata": {},
   "outputs": [
    {
     "name": "stdout",
     "output_type": "stream",
     "text": [
      "----------------------------------------------------------------------------------------------------\n",
      "----------------------------------------------------------------------------------------------------\n",
      "Accuracy of LogisticRegressionis 0.35\n",
      "9487\n",
      "----------------------------------------------------------------------------------------------------\n",
      "----------------------------------------------------------------------------------------------------\n",
      "Accuracy of LogisticRegressionis 0.355\n",
      "10018\n",
      "----------------------------------------------------------------------------------------------------\n",
      "----------------------------------------------------------------------------------------------------\n",
      "Accuracy of LogisticRegressionis 0.3475\n",
      "8782\n",
      "----------------------------------------------------------------------------------------------------\n",
      "----------------------------------------------------------------------------------------------------\n",
      "Accuracy of LogisticRegressionis 0.3625\n",
      "10047\n",
      "----------------------------------------------------------------------------------------------------\n",
      "----------------------------------------------------------------------------------------------------\n",
      "Accuracy of LogisticRegressionis 0.3925\n",
      "9777\n",
      "----------------------------------------------------------------------------------------------------\n",
      "----------------------------------------------------------------------------------------------------\n",
      "Accuracy of KNeighborsClassifieris 0.4925\n",
      "9487\n",
      "----------------------------------------------------------------------------------------------------\n",
      "----------------------------------------------------------------------------------------------------\n",
      "Accuracy of KNeighborsClassifieris 0.255\n",
      "10018\n",
      "----------------------------------------------------------------------------------------------------\n",
      "----------------------------------------------------------------------------------------------------\n",
      "Accuracy of KNeighborsClassifieris 0.34\n",
      "8782\n",
      "----------------------------------------------------------------------------------------------------\n",
      "----------------------------------------------------------------------------------------------------\n",
      "Accuracy of KNeighborsClassifieris 0.52\n",
      "10047\n",
      "----------------------------------------------------------------------------------------------------\n",
      "----------------------------------------------------------------------------------------------------\n",
      "Accuracy of KNeighborsClassifieris 0.485\n",
      "9777\n",
      "----------------------------------------------------------------------------------------------------\n",
      "----------------------------------------------------------------------------------------------------\n",
      "Accuracy of SVCis 0.3525\n",
      "9487\n",
      "----------------------------------------------------------------------------------------------------\n",
      "----------------------------------------------------------------------------------------------------\n",
      "Accuracy of SVCis 0.3525\n",
      "10018\n",
      "----------------------------------------------------------------------------------------------------\n",
      "----------------------------------------------------------------------------------------------------\n",
      "Accuracy of SVCis 0.3525\n",
      "8782\n",
      "----------------------------------------------------------------------------------------------------\n",
      "----------------------------------------------------------------------------------------------------\n",
      "Accuracy of SVCis 0.3525\n",
      "10047\n",
      "----------------------------------------------------------------------------------------------------\n",
      "----------------------------------------------------------------------------------------------------\n",
      "Accuracy of SVCis 0.3525\n",
      "9777\n",
      "----------------------------------------------------------------------------------------------------\n",
      "----------------------------------------------------------------------------------------------------\n",
      "Accuracy of RandomForestClassifieris 0.3625\n",
      "9487\n",
      "----------------------------------------------------------------------------------------------------\n",
      "----------------------------------------------------------------------------------------------------\n",
      "Accuracy of RandomForestClassifieris 0.345\n",
      "10018\n",
      "----------------------------------------------------------------------------------------------------\n",
      "----------------------------------------------------------------------------------------------------\n",
      "Accuracy of RandomForestClassifieris 0.38\n",
      "8782\n",
      "----------------------------------------------------------------------------------------------------\n",
      "----------------------------------------------------------------------------------------------------\n",
      "Accuracy of RandomForestClassifieris 0.4275\n",
      "10047\n",
      "----------------------------------------------------------------------------------------------------\n",
      "----------------------------------------------------------------------------------------------------\n",
      "Accuracy of RandomForestClassifieris 0.42\n",
      "9777\n",
      "----------------------------------------------------------------------------------------------------\n",
      "----------------------------------------------------------------------------------------------------\n",
      "Accuracy of AdaBoostClassifieris 0.3175\n",
      "9487\n",
      "----------------------------------------------------------------------------------------------------\n",
      "----------------------------------------------------------------------------------------------------\n",
      "Accuracy of AdaBoostClassifieris 0.34\n",
      "10018\n",
      "----------------------------------------------------------------------------------------------------\n",
      "----------------------------------------------------------------------------------------------------\n",
      "Accuracy of AdaBoostClassifieris 0.355\n",
      "8782\n",
      "----------------------------------------------------------------------------------------------------\n",
      "----------------------------------------------------------------------------------------------------\n",
      "Accuracy of AdaBoostClassifieris 0.33\n",
      "10047\n",
      "----------------------------------------------------------------------------------------------------\n",
      "----------------------------------------------------------------------------------------------------\n",
      "Accuracy of AdaBoostClassifieris 0.3525\n",
      "9777\n"
     ]
    }
   ],
   "source": [
    "X_Ltest, Y_Ltest= (label['labelled_tokenized'], labelled[2]) \n",
    "\n",
    "listi= [(df_t4['sideeffect_tokenized'], df_t4['sideEffects'])]\n",
    "Classifiers_1 = [\n",
    "            LogisticRegression(),\n",
    "            KNeighborsClassifier(3),\n",
    "            SVC(kernel=\"rbf\"),\n",
    "            RandomForestClassifier(),\n",
    "            AdaBoostClassifier(),\n",
    "]\n",
    "\n",
    "title=['LogisticRegressio','KNeighborsClassifier','SVC','RandomForestClassifier','AdaBoostClassifier']        \n",
    "v = CountVectorizer(analyzer = \"word\", ngram_range= (1,2))\n",
    "        \n",
    "for X_train, y_train in listi:\n",
    "    InputVectori= [(X_train[0:621], y_train[0:621]),(X_train[621:1242], y_train[621:1242]),(X_train[1242:1863], y_train[1242:1863]),(X_train[1863:2484], y_train[1863:2484]),(X_train[2484:3105], y_train[2484:3105])] \n",
    "    \n",
    "    for name,classifier in zip(title,Classifiers_1):\n",
    "          \n",
    "            test=[]\n",
    "            names.append(name)\n",
    "            results.append(test)\n",
    "            for  (X_train, y_train) in InputVectori:\n",
    "                print('-'*100)\n",
    "\n",
    "                print('-'*100)\n",
    "\n",
    "                train_features= v.fit_transform(X_train)\n",
    "\n",
    "                test_features=v.transform(X_Ltest)\n",
    "                fit = classifier.fit(train_features,y_train)\n",
    "                pred = fit.predict(test_features)\n",
    "                accuracy = accuracy_score(pred,Y_Ltest)\n",
    "                test.append(accuracy)\n",
    "                print('Accuracy of '+classifier.__class__.__name__+'is '+str(accuracy))\n",
    "                print(len(v.vocabulary_))\n"
   ]
  },
  {
   "cell_type": "markdown",
   "metadata": {},
   "source": [
    "### CROSS-DATA * DrugLib -> Drugs.com |Overall Rating"
   ]
  },
  {
   "cell_type": "code",
   "execution_count": 16,
   "metadata": {},
   "outputs": [
    {
     "name": "stdout",
     "output_type": "stream",
     "text": [
      "----------------------------------------------------------------------------------------------------\n",
      "----------------------------------------------------------------------------------------------------\n",
      "Accuracy of LogisticRegressionis 0.6675935335448917\n",
      "31462\n",
      "----------------------------------------------------------------------------------------------------\n",
      "----------------------------------------------------------------------------------------------------\n",
      "Accuracy of LogisticRegressionis 0.6761535440189032\n",
      "31917\n",
      "----------------------------------------------------------------------------------------------------\n",
      "----------------------------------------------------------------------------------------------------\n",
      "Accuracy of LogisticRegressionis 0.6787533432670187\n",
      "29139\n",
      "----------------------------------------------------------------------------------------------------\n",
      "----------------------------------------------------------------------------------------------------\n",
      "Accuracy of LogisticRegressionis 0.6813157353317082\n",
      "31949\n",
      "----------------------------------------------------------------------------------------------------\n",
      "----------------------------------------------------------------------------------------------------\n",
      "Accuracy of LogisticRegressionis 0.6714464734377825\n",
      "30494\n",
      "----------------------------------------------------------------------------------------------------\n",
      "----------------------------------------------------------------------------------------------------\n",
      "Accuracy of KNeighborsClassifieris 0.6627493032912087\n",
      "31462\n",
      "----------------------------------------------------------------------------------------------------\n",
      "----------------------------------------------------------------------------------------------------\n",
      "Accuracy of KNeighborsClassifieris 0.6624562803543708\n",
      "31917\n",
      "----------------------------------------------------------------------------------------------------\n",
      "----------------------------------------------------------------------------------------------------\n",
      "Accuracy of KNeighborsClassifieris 0.10032606594886438\n",
      "29139\n",
      "----------------------------------------------------------------------------------------------------\n",
      "----------------------------------------------------------------------------------------------------\n",
      "Accuracy of KNeighborsClassifieris 0.3511349962904543\n",
      "31949\n",
      "----------------------------------------------------------------------------------------------------\n",
      "----------------------------------------------------------------------------------------------------\n",
      "Accuracy of KNeighborsClassifieris 0.662531094721223\n",
      "30494\n",
      "----------------------------------------------------------------------------------------------------\n",
      "----------------------------------------------------------------------------------------------------\n",
      "Accuracy of SVCis 0.6627617723523507\n",
      "31462\n",
      "----------------------------------------------------------------------------------------------------\n",
      "----------------------------------------------------------------------------------------------------\n",
      "Accuracy of SVCis 0.6627617723523507\n",
      "31917\n",
      "----------------------------------------------------------------------------------------------------\n",
      "----------------------------------------------------------------------------------------------------\n",
      "Accuracy of SVCis 0.6627617723523507\n",
      "29139\n",
      "----------------------------------------------------------------------------------------------------\n",
      "----------------------------------------------------------------------------------------------------\n",
      "Accuracy of SVCis 0.6627617723523507\n",
      "31949\n",
      "----------------------------------------------------------------------------------------------------\n",
      "----------------------------------------------------------------------------------------------------\n",
      "Accuracy of SVCis 0.6627617723523507\n",
      "30494\n",
      "----------------------------------------------------------------------------------------------------\n",
      "----------------------------------------------------------------------------------------------------\n",
      "Accuracy of RandomForestClassifieris 0.6626308472103593\n",
      "31462\n",
      "----------------------------------------------------------------------------------------------------\n",
      "----------------------------------------------------------------------------------------------------\n",
      "Accuracy of RandomForestClassifieris 0.6622754789678111\n",
      "31917\n",
      "----------------------------------------------------------------------------------------------------\n",
      "----------------------------------------------------------------------------------------------------\n",
      "Accuracy of RandomForestClassifieris 0.662549798312936\n",
      "29139\n",
      "----------------------------------------------------------------------------------------------------\n",
      "----------------------------------------------------------------------------------------------------\n",
      "Accuracy of RandomForestClassifieris 0.6625934400269332\n",
      "31949\n",
      "----------------------------------------------------------------------------------------------------\n",
      "----------------------------------------------------------------------------------------------------\n",
      "Accuracy of RandomForestClassifieris 0.6612093742401666\n",
      "30494\n",
      "----------------------------------------------------------------------------------------------------\n",
      "----------------------------------------------------------------------------------------------------\n",
      "Accuracy of AdaBoostClassifieris 0.6325928789191818\n",
      "31462\n",
      "----------------------------------------------------------------------------------------------------\n",
      "----------------------------------------------------------------------------------------------------\n",
      "Accuracy of AdaBoostClassifieris 0.6403236968272474\n",
      "31917\n",
      "----------------------------------------------------------------------------------------------------\n",
      "----------------------------------------------------------------------------------------------------\n",
      "Accuracy of AdaBoostClassifieris 0.6284905578034502\n",
      "29139\n",
      "----------------------------------------------------------------------------------------------------\n",
      "----------------------------------------------------------------------------------------------------\n",
      "Accuracy of AdaBoostClassifieris 0.6570571768798669\n",
      "31949\n",
      "----------------------------------------------------------------------------------------------------\n",
      "----------------------------------------------------------------------------------------------------\n",
      "Accuracy of AdaBoostClassifieris 0.6403112277661054\n",
      "30494\n"
     ]
    }
   ],
   "source": [
    "\n",
    "X_Ltest, Y_Ltest= (df_drugsc['review_tokenized'],df_drugsc['Rating_Model']) \n",
    "\n",
    "listi= [(df_t4['review_tokenized'],df_t4['rating'])]\n",
    "Classifiers_1 = [\n",
    "            LogisticRegression(),\n",
    "            KNeighborsClassifier(3),\n",
    "            SVC(kernel=\"rbf\"),\n",
    "            RandomForestClassifier(),\n",
    "            AdaBoostClassifier(),\n",
    "]\n",
    "\n",
    "title=['LogisticRegressio','KNeighborsClassifier','SVC','RandomForestClassifier','AdaBoostClassifier']        \n",
    "v = CountVectorizer(analyzer = \"word\", ngram_range= (1,2))\n",
    "        \n",
    "for X_train, y_train in listi:\n",
    "    InputVectori= [(X_train[0:621], y_train[0:621]),(X_train[621:1242], y_train[621:1242]),(X_train[1242:1863], y_train[1242:1863]),(X_train[1863:2484], y_train[1863:2484]),(X_train[2484:3105], y_train[2484:3105])] \n",
    "    \n",
    "    for name,classifier in zip(title,Classifiers_1):\n",
    "          \n",
    "            test=[]\n",
    "            names.append(name)\n",
    "            results.append(test)\n",
    "            for  (X_train, y_train) in InputVectori:\n",
    "                print('-'*100)\n",
    "\n",
    "                print('-'*100)\n",
    "\n",
    "                train_features= v.fit_transform(X_train)\n",
    "\n",
    "                test_features=v.transform(X_Ltest)\n",
    "                fit = classifier.fit(train_features,y_train)\n",
    "                pred = fit.predict(test_features)\n",
    "                accuracy = accuracy_score(pred,Y_Ltest)\n",
    "                test.append(accuracy)\n",
    "                print('Accuracy of '+classifier.__class__.__name__+'is '+str(accuracy))\n",
    "                print(len(v.vocabulary_))\n"
   ]
  },
  {
   "cell_type": "markdown",
   "metadata": {},
   "source": [
    "### Models Bringing into A DataFrame"
   ]
  },
  {
   "cell_type": "code",
   "execution_count": 17,
   "metadata": {},
   "outputs": [
    {
     "data": {
      "text/plain": [
       "25"
      ]
     },
     "execution_count": 17,
     "metadata": {},
     "output_type": "execute_result"
    }
   ],
   "source": [
    "len(results)"
   ]
  },
  {
   "cell_type": "code",
   "execution_count": 18,
   "metadata": {},
   "outputs": [],
   "source": [
    "modelling= ['SideEffects','SideEffects','SideEffects','SideEffects','SideEffects',\n",
    "            'Effectiveness','Effectiveness','Effectiveness','Effectiveness','Effectiveness',\n",
    "            'Rating','Rating','Rating','Rating','Rating',\n",
    "           'Drug_Lib on Drug.com: Side-Effects','Drug_Lib on Drug.com: Side-Effects','Drug_Lib on Drug.com: Side-Effects',\n",
    "            'Drug_Lib on Drug.com: Side-Effects','Drug_Lib on Drug.com: Side-Effects',\n",
    "            'Drug_Lib on Drug.com: Overall-Rating','Drug_Lib on Drug.com: Overall-Rating','Drug_Lib on Drug.com: Overall-Rating',\n",
    "            'Drug_Lib on Drug.com: Overall-Rating','Drug_Lib on Drug.com: Overall-Rating'\n",
    "           ]\n",
    "df_k_fold= pd.DataFrame({'Model':names,'results':results,'Objects':modelling})"
   ]
  },
  {
   "cell_type": "code",
   "execution_count": 19,
   "metadata": {},
   "outputs": [],
   "source": [
    "res = pd.DataFrame({'Model': np.repeat(df_k_fold['Model'], df_k_fold['results'].map(len).values),\n",
    "                    'results': list(chain.from_iterable(df_k_fold['results'])),\n",
    "                   'Objects':np.repeat(df_k_fold['Objects'], df_k_fold['results'].map(len).values)})"
   ]
  },
  {
   "cell_type": "code",
   "execution_count": 20,
   "metadata": {},
   "outputs": [
    {
     "data": {
      "text/html": [
       "<div>\n",
       "<style scoped>\n",
       "    .dataframe tbody tr th:only-of-type {\n",
       "        vertical-align: middle;\n",
       "    }\n",
       "\n",
       "    .dataframe tbody tr th {\n",
       "        vertical-align: top;\n",
       "    }\n",
       "\n",
       "    .dataframe thead th {\n",
       "        text-align: right;\n",
       "    }\n",
       "</style>\n",
       "<table border=\"1\" class=\"dataframe\">\n",
       "  <thead>\n",
       "    <tr style=\"text-align: right;\">\n",
       "      <th></th>\n",
       "      <th>Model</th>\n",
       "      <th>results</th>\n",
       "      <th>Objects</th>\n",
       "    </tr>\n",
       "  </thead>\n",
       "  <tbody>\n",
       "    <tr>\n",
       "      <th>0</th>\n",
       "      <td>LogisticRegressio</td>\n",
       "      <td>0.750804</td>\n",
       "      <td>SideEffects</td>\n",
       "    </tr>\n",
       "  </tbody>\n",
       "</table>\n",
       "</div>"
      ],
      "text/plain": [
       "               Model   results      Objects\n",
       "0  LogisticRegressio  0.750804  SideEffects"
      ]
     },
     "execution_count": 20,
     "metadata": {},
     "output_type": "execute_result"
    }
   ],
   "source": [
    "res.head(1)"
   ]
  },
  {
   "cell_type": "code",
   "execution_count": 21,
   "metadata": {},
   "outputs": [],
   "source": [
    "res.to_csv('FINAL_Model')"
   ]
  },
  {
   "cell_type": "markdown",
   "metadata": {},
   "source": [
    "### Visualization for Models"
   ]
  },
  {
   "cell_type": "code",
   "execution_count": 22,
   "metadata": {},
   "outputs": [],
   "source": [
    "def whiskers(object):\n",
    "\n",
    "    base = alt.Chart(res[res['Objects']==object])\n",
    "\n",
    "\n",
    "\n",
    "\n",
    "    # Define aggregate fields\n",
    "    lower_box = 'q1(results):Q'\n",
    "    lower_whisker = 'min(results):Q'\n",
    "    upper_box = 'q3(results):Q'\n",
    "    upper_whisker = 'max(results):Q'\n",
    "\n",
    "    # Compose each layer individually\n",
    "    lower_plot = base.mark_rule(size=5).encode(\n",
    "        y=alt.Y(lower_whisker, title=\"Accuracy\"),\n",
    "        y2=lower_box,\n",
    "        x='Model:O'\n",
    "    )\n",
    "\n",
    "    middle_plot = base.mark_bar(size=50.0).encode(\n",
    "        y=lower_box,\n",
    "        y2=upper_box,\n",
    "        x='Model:O'\n",
    "    )\n",
    "\n",
    "    upper_plot = base.mark_rule(size=5).encode(\n",
    "        y=upper_whisker,\n",
    "        y2=upper_box,\n",
    "        x='Model:O'\n",
    "    )\n",
    "\n",
    "    middle_tick = base.mark_tick(\n",
    "        color='white',\n",
    "        size=1000.0\n",
    "    ).encode(\n",
    "        y='median(results):Q',\n",
    "        x='Model:O',\n",
    "    )\n",
    "\n",
    "\n",
    "    return (lower_plot + middle_plot + upper_plot + middle_tick).properties(height=500, width=400, title=('Applied Models on '+object)).interactive()"
   ]
  },
  {
   "cell_type": "code",
   "execution_count": 23,
   "metadata": {},
   "outputs": [
    {
     "data": {
      "text/plain": [
       "['SideEffects',\n",
       " 'Effectiveness',\n",
       " 'Rating',\n",
       " 'Drug_Lib on Drug.com: Side-Effects',\n",
       " 'Drug_Lib on Drug.com: Overall-Rating']"
      ]
     },
     "execution_count": 23,
     "metadata": {},
     "output_type": "execute_result"
    }
   ],
   "source": [
    "list(res['Objects'].unique())\n",
    "    "
   ]
  },
  {
   "cell_type": "markdown",
   "metadata": {},
   "source": [
    "# Visualization for \n",
    "#### 1.SideEffects\n",
    "#### 2.Effectiveness\n",
    "#### 3.Rating\n",
    "#### 4.Drug.com:Rating\n",
    "#### 4.Drug_Lib on Drug.com: Side-Effects\n",
    "#### 5.Drug_Lib on Drug.com: Overall-Rating "
   ]
  },
  {
   "cell_type": "code",
   "execution_count": 24,
   "metadata": {},
   "outputs": [
    {
     "data": {
      "application/vnd.vegalite.v2+json": {
       "$schema": "https://vega.github.io/schema/vega-lite/v2.6.0.json",
       "config": {
        "view": {
         "height": 300,
         "width": 400
        }
       },
       "datasets": {
        "data-86efbe0d774851b640c1308ab0899cb2": [
         {
          "Model": "LogisticRegressio",
          "Objects": "Effectiveness",
          "results": 0.7491961414790996
         },
         {
          "Model": "LogisticRegressio",
          "Objects": "Effectiveness",
          "results": 0.7909967845659164
         },
         {
          "Model": "LogisticRegressio",
          "Objects": "Effectiveness",
          "results": 0.7874396135265701
         },
         {
          "Model": "LogisticRegressio",
          "Objects": "Effectiveness",
          "results": 0.7471819645732689
         },
         {
          "Model": "LogisticRegressio",
          "Objects": "Effectiveness",
          "results": 0.7520128824476651
         },
         {
          "Model": "KNeighborsClassifier",
          "Objects": "Effectiveness",
          "results": 0.5128617363344051
         },
         {
          "Model": "KNeighborsClassifier",
          "Objects": "Effectiveness",
          "results": 0.6945337620578779
         },
         {
          "Model": "KNeighborsClassifier",
          "Objects": "Effectiveness",
          "results": 0.6859903381642513
         },
         {
          "Model": "KNeighborsClassifier",
          "Objects": "Effectiveness",
          "results": 0.677938808373591
         },
         {
          "Model": "KNeighborsClassifier",
          "Objects": "Effectiveness",
          "results": 0.6586151368760065
         },
         {
          "Model": "SVC",
          "Objects": "Effectiveness",
          "results": 0.7282958199356914
         },
         {
          "Model": "SVC",
          "Objects": "Effectiveness",
          "results": 0.7315112540192926
         },
         {
          "Model": "SVC",
          "Objects": "Effectiveness",
          "results": 0.7600644122383253
         },
         {
          "Model": "SVC",
          "Objects": "Effectiveness",
          "results": 0.7133655394524959
         },
         {
          "Model": "SVC",
          "Objects": "Effectiveness",
          "results": 0.7004830917874396
         },
         {
          "Model": "RandomForestClassifier",
          "Objects": "Effectiveness",
          "results": 0.7443729903536977
         },
         {
          "Model": "RandomForestClassifier",
          "Objects": "Effectiveness",
          "results": 0.752411575562701
         },
         {
          "Model": "RandomForestClassifier",
          "Objects": "Effectiveness",
          "results": 0.7793880837359098
         },
         {
          "Model": "RandomForestClassifier",
          "Objects": "Effectiveness",
          "results": 0.7407407407407407
         },
         {
          "Model": "RandomForestClassifier",
          "Objects": "Effectiveness",
          "results": 0.7294685990338164
         },
         {
          "Model": "AdaBoostClassifier",
          "Objects": "Effectiveness",
          "results": 0.7315112540192926
         },
         {
          "Model": "AdaBoostClassifier",
          "Objects": "Effectiveness",
          "results": 0.7508038585209004
         },
         {
          "Model": "AdaBoostClassifier",
          "Objects": "Effectiveness",
          "results": 0.7665056360708534
         },
         {
          "Model": "AdaBoostClassifier",
          "Objects": "Effectiveness",
          "results": 0.7326892109500805
         },
         {
          "Model": "AdaBoostClassifier",
          "Objects": "Effectiveness",
          "results": 0.7278582930756844
         }
        ]
       },
       "height": 500,
       "layer": [
        {
         "data": {
          "name": "data-86efbe0d774851b640c1308ab0899cb2"
         },
         "encoding": {
          "x": {
           "field": "Model",
           "type": "ordinal"
          },
          "y": {
           "aggregate": "min",
           "field": "results",
           "title": "Accuracy",
           "type": "quantitative"
          },
          "y2": {
           "aggregate": "q1",
           "field": "results",
           "type": "quantitative"
          }
         },
         "mark": {
          "size": 5,
          "type": "rule"
         },
         "selection": {
          "selector001": {
           "bind": "scales",
           "encodings": [
            "x",
            "y"
           ],
           "mark": {
            "fill": "#333",
            "fillOpacity": 0.125,
            "stroke": "white"
           },
           "on": "[mousedown, window:mouseup] > window:mousemove!",
           "resolve": "global",
           "translate": "[mousedown, window:mouseup] > window:mousemove!",
           "type": "interval",
           "zoom": "wheel!"
          }
         }
        },
        {
         "data": {
          "name": "data-86efbe0d774851b640c1308ab0899cb2"
         },
         "encoding": {
          "x": {
           "field": "Model",
           "type": "ordinal"
          },
          "y": {
           "aggregate": "q1",
           "field": "results",
           "type": "quantitative"
          },
          "y2": {
           "aggregate": "q3",
           "field": "results",
           "type": "quantitative"
          }
         },
         "mark": {
          "size": 50,
          "type": "bar"
         }
        },
        {
         "data": {
          "name": "data-86efbe0d774851b640c1308ab0899cb2"
         },
         "encoding": {
          "x": {
           "field": "Model",
           "type": "ordinal"
          },
          "y": {
           "aggregate": "max",
           "field": "results",
           "type": "quantitative"
          },
          "y2": {
           "aggregate": "q3",
           "field": "results",
           "type": "quantitative"
          }
         },
         "mark": {
          "size": 5,
          "type": "rule"
         }
        },
        {
         "data": {
          "name": "data-86efbe0d774851b640c1308ab0899cb2"
         },
         "encoding": {
          "x": {
           "field": "Model",
           "type": "ordinal"
          },
          "y": {
           "aggregate": "median",
           "field": "results",
           "type": "quantitative"
          }
         },
         "mark": {
          "color": "white",
          "size": 1000,
          "type": "tick"
         }
        }
       ],
       "title": "Applied Models on Effectiveness",
       "width": 400
      },
      "image/png": "[encoded data removed]",
      "text/plain": [
       "<VegaLite 2 object>\n",
       "\n",
       "If you see this message, it means the renderer has not been properly enabled\n",
       "for the frontend that you are using. For more information, see\n",
       "https://altair-viz.github.io/user_guide/troubleshooting.html\n"
      ]
     },
     "execution_count": 24,
     "metadata": {},
     "output_type": "execute_result"
    }
   ],
   "source": [
    "whiskers('Effectiveness')"
   ]
  },
  {
   "cell_type": "code",
   "execution_count": 25,
   "metadata": {},
   "outputs": [
    {
     "data": {
      "application/vnd.vegalite.v2+json": {
       "$schema": "https://vega.github.io/schema/vega-lite/v2.6.0.json",
       "config": {
        "view": {
         "height": 300,
         "width": 400
        }
       },
       "datasets": {
        "data-3d7d14d966a32bb57de100b21a5e1e2e": [
         {
          "Model": "LogisticRegressio",
          "Objects": "Rating",
          "results": 0.7347266881028939
         },
         {
          "Model": "LogisticRegressio",
          "Objects": "Rating",
          "results": 0.7379421221864951
         },
         {
          "Model": "LogisticRegressio",
          "Objects": "Rating",
          "results": 0.7761674718196457
         },
         {
          "Model": "LogisticRegressio",
          "Objects": "Rating",
          "results": 0.7616747181964574
         },
         {
          "Model": "LogisticRegressio",
          "Objects": "Rating",
          "results": 0.7198067632850241
         },
         {
          "Model": "KNeighborsClassifier",
          "Objects": "Rating",
          "results": 0.6237942122186495
         },
         {
          "Model": "KNeighborsClassifier",
          "Objects": "Rating",
          "results": 0.662379421221865
         },
         {
          "Model": "KNeighborsClassifier",
          "Objects": "Rating",
          "results": 0.7069243156199678
         },
         {
          "Model": "KNeighborsClassifier",
          "Objects": "Rating",
          "results": 0.6908212560386473
         },
         {
          "Model": "KNeighborsClassifier",
          "Objects": "Rating",
          "results": 0.6489533011272142
         },
         {
          "Model": "SVC",
          "Objects": "Rating",
          "results": 0.6832797427652733
         },
         {
          "Model": "SVC",
          "Objects": "Rating",
          "results": 0.6736334405144695
         },
         {
          "Model": "SVC",
          "Objects": "Rating",
          "results": 0.7085346215780999
         },
         {
          "Model": "SVC",
          "Objects": "Rating",
          "results": 0.7020933977455717
         },
         {
          "Model": "SVC",
          "Objects": "Rating",
          "results": 0.6602254428341385
         },
         {
          "Model": "RandomForestClassifier",
          "Objects": "Rating",
          "results": 0.6881028938906752
         },
         {
          "Model": "RandomForestClassifier",
          "Objects": "Rating",
          "results": 0.6720257234726688
         },
         {
          "Model": "RandomForestClassifier",
          "Objects": "Rating",
          "results": 0.7085346215780999
         },
         {
          "Model": "RandomForestClassifier",
          "Objects": "Rating",
          "results": 0.7230273752012882
         },
         {
          "Model": "RandomForestClassifier",
          "Objects": "Rating",
          "results": 0.6763285024154589
         },
         {
          "Model": "AdaBoostClassifier",
          "Objects": "Rating",
          "results": 0.6784565916398714
         },
         {
          "Model": "AdaBoostClassifier",
          "Objects": "Rating",
          "results": 0.6720257234726688
         },
         {
          "Model": "AdaBoostClassifier",
          "Objects": "Rating",
          "results": 0.714975845410628
         },
         {
          "Model": "AdaBoostClassifier",
          "Objects": "Rating",
          "results": 0.6843800322061192
         },
         {
          "Model": "AdaBoostClassifier",
          "Objects": "Rating",
          "results": 0.6714975845410628
         }
        ]
       },
       "height": 500,
       "layer": [
        {
         "data": {
          "name": "data-3d7d14d966a32bb57de100b21a5e1e2e"
         },
         "encoding": {
          "x": {
           "field": "Model",
           "type": "ordinal"
          },
          "y": {
           "aggregate": "min",
           "field": "results",
           "title": "Accuracy",
           "type": "quantitative"
          },
          "y2": {
           "aggregate": "q1",
           "field": "results",
           "type": "quantitative"
          }
         },
         "mark": {
          "size": 5,
          "type": "rule"
         },
         "selection": {
          "selector002": {
           "bind": "scales",
           "encodings": [
            "x",
            "y"
           ],
           "mark": {
            "fill": "#333",
            "fillOpacity": 0.125,
            "stroke": "white"
           },
           "on": "[mousedown, window:mouseup] > window:mousemove!",
           "resolve": "global",
           "translate": "[mousedown, window:mouseup] > window:mousemove!",
           "type": "interval",
           "zoom": "wheel!"
          }
         }
        },
        {
         "data": {
          "name": "data-3d7d14d966a32bb57de100b21a5e1e2e"
         },
         "encoding": {
          "x": {
           "field": "Model",
           "type": "ordinal"
          },
          "y": {
           "aggregate": "q1",
           "field": "results",
           "type": "quantitative"
          },
          "y2": {
           "aggregate": "q3",
           "field": "results",
           "type": "quantitative"
          }
         },
         "mark": {
          "size": 50,
          "type": "bar"
         }
        },
        {
         "data": {
          "name": "data-3d7d14d966a32bb57de100b21a5e1e2e"
         },
         "encoding": {
          "x": {
           "field": "Model",
           "type": "ordinal"
          },
          "y": {
           "aggregate": "max",
           "field": "results",
           "type": "quantitative"
          },
          "y2": {
           "aggregate": "q3",
           "field": "results",
           "type": "quantitative"
          }
         },
         "mark": {
          "size": 5,
          "type": "rule"
         }
        },
        {
         "data": {
          "name": "data-3d7d14d966a32bb57de100b21a5e1e2e"
         },
         "encoding": {
          "x": {
           "field": "Model",
           "type": "ordinal"
          },
          "y": {
           "aggregate": "median",
           "field": "results",
           "type": "quantitative"
          }
         },
         "mark": {
          "color": "white",
          "size": 1000,
          "type": "tick"
         }
        }
       ],
       "title": "Applied Models on Rating",
       "width": 400
      },
      "image/png": "[encoded data removed]",
      "text/plain": [
       "<VegaLite 2 object>\n",
       "\n",
       "If you see this message, it means the renderer has not been properly enabled\n",
       "for the frontend that you are using. For more information, see\n",
       "https://altair-viz.github.io/user_guide/troubleshooting.html\n"
      ]
     },
     "execution_count": 25,
     "metadata": {},
     "output_type": "execute_result"
    }
   ],
   "source": [
    "whiskers('Rating')"
   ]
  },
  {
   "cell_type": "code",
   "execution_count": 26,
   "metadata": {},
   "outputs": [
    {
     "data": {
      "application/vnd.vegalite.v2+json": {
       "$schema": "https://vega.github.io/schema/vega-lite/v2.6.0.json",
       "config": {
        "view": {
         "height": 300,
         "width": 400
        }
       },
       "datasets": {
        "data-96d054da91b1c0a75631d1156a815b5b": [
         {
          "Model": "LogisticRegressio",
          "Objects": "Drug_Lib on Drug.com: Side-Effects",
          "results": 0.35
         },
         {
          "Model": "LogisticRegressio",
          "Objects": "Drug_Lib on Drug.com: Side-Effects",
          "results": 0.355
         },
         {
          "Model": "LogisticRegressio",
          "Objects": "Drug_Lib on Drug.com: Side-Effects",
          "results": 0.3475
         },
         {
          "Model": "LogisticRegressio",
          "Objects": "Drug_Lib on Drug.com: Side-Effects",
          "results": 0.3625
         },
         {
          "Model": "LogisticRegressio",
          "Objects": "Drug_Lib on Drug.com: Side-Effects",
          "results": 0.3925
         },
         {
          "Model": "KNeighborsClassifier",
          "Objects": "Drug_Lib on Drug.com: Side-Effects",
          "results": 0.4925
         },
         {
          "Model": "KNeighborsClassifier",
          "Objects": "Drug_Lib on Drug.com: Side-Effects",
          "results": 0.255
         },
         {
          "Model": "KNeighborsClassifier",
          "Objects": "Drug_Lib on Drug.com: Side-Effects",
          "results": 0.34
         },
         {
          "Model": "KNeighborsClassifier",
          "Objects": "Drug_Lib on Drug.com: Side-Effects",
          "results": 0.52
         },
         {
          "Model": "KNeighborsClassifier",
          "Objects": "Drug_Lib on Drug.com: Side-Effects",
          "results": 0.485
         },
         {
          "Model": "SVC",
          "Objects": "Drug_Lib on Drug.com: Side-Effects",
          "results": 0.3525
         },
         {
          "Model": "SVC",
          "Objects": "Drug_Lib on Drug.com: Side-Effects",
          "results": 0.3525
         },
         {
          "Model": "SVC",
          "Objects": "Drug_Lib on Drug.com: Side-Effects",
          "results": 0.3525
         },
         {
          "Model": "SVC",
          "Objects": "Drug_Lib on Drug.com: Side-Effects",
          "results": 0.3525
         },
         {
          "Model": "SVC",
          "Objects": "Drug_Lib on Drug.com: Side-Effects",
          "results": 0.3525
         },
         {
          "Model": "RandomForestClassifier",
          "Objects": "Drug_Lib on Drug.com: Side-Effects",
          "results": 0.3625
         },
         {
          "Model": "RandomForestClassifier",
          "Objects": "Drug_Lib on Drug.com: Side-Effects",
          "results": 0.345
         },
         {
          "Model": "RandomForestClassifier",
          "Objects": "Drug_Lib on Drug.com: Side-Effects",
          "results": 0.38
         },
         {
          "Model": "RandomForestClassifier",
          "Objects": "Drug_Lib on Drug.com: Side-Effects",
          "results": 0.4275
         },
         {
          "Model": "RandomForestClassifier",
          "Objects": "Drug_Lib on Drug.com: Side-Effects",
          "results": 0.42
         },
         {
          "Model": "AdaBoostClassifier",
          "Objects": "Drug_Lib on Drug.com: Side-Effects",
          "results": 0.3175
         },
         {
          "Model": "AdaBoostClassifier",
          "Objects": "Drug_Lib on Drug.com: Side-Effects",
          "results": 0.34
         },
         {
          "Model": "AdaBoostClassifier",
          "Objects": "Drug_Lib on Drug.com: Side-Effects",
          "results": 0.355
         },
         {
          "Model": "AdaBoostClassifier",
          "Objects": "Drug_Lib on Drug.com: Side-Effects",
          "results": 0.33
         },
         {
          "Model": "AdaBoostClassifier",
          "Objects": "Drug_Lib on Drug.com: Side-Effects",
          "results": 0.3525
         }
        ]
       },
       "height": 500,
       "layer": [
        {
         "data": {
          "name": "data-96d054da91b1c0a75631d1156a815b5b"
         },
         "encoding": {
          "x": {
           "field": "Model",
           "type": "ordinal"
          },
          "y": {
           "aggregate": "min",
           "field": "results",
           "title": "Accuracy",
           "type": "quantitative"
          },
          "y2": {
           "aggregate": "q1",
           "field": "results",
           "type": "quantitative"
          }
         },
         "mark": {
          "size": 5,
          "type": "rule"
         },
         "selection": {
          "selector003": {
           "bind": "scales",
           "encodings": [
            "x",
            "y"
           ],
           "mark": {
            "fill": "#333",
            "fillOpacity": 0.125,
            "stroke": "white"
           },
           "on": "[mousedown, window:mouseup] > window:mousemove!",
           "resolve": "global",
           "translate": "[mousedown, window:mouseup] > window:mousemove!",
           "type": "interval",
           "zoom": "wheel!"
          }
         }
        },
        {
         "data": {
          "name": "data-96d054da91b1c0a75631d1156a815b5b"
         },
         "encoding": {
          "x": {
           "field": "Model",
           "type": "ordinal"
          },
          "y": {
           "aggregate": "q1",
           "field": "results",
           "type": "quantitative"
          },
          "y2": {
           "aggregate": "q3",
           "field": "results",
           "type": "quantitative"
          }
         },
         "mark": {
          "size": 50,
          "type": "bar"
         }
        },
        {
         "data": {
          "name": "data-96d054da91b1c0a75631d1156a815b5b"
         },
         "encoding": {
          "x": {
           "field": "Model",
           "type": "ordinal"
          },
          "y": {
           "aggregate": "max",
           "field": "results",
           "type": "quantitative"
          },
          "y2": {
           "aggregate": "q3",
           "field": "results",
           "type": "quantitative"
          }
         },
         "mark": {
          "size": 5,
          "type": "rule"
         }
        },
        {
         "data": {
          "name": "data-96d054da91b1c0a75631d1156a815b5b"
         },
         "encoding": {
          "x": {
           "field": "Model",
           "type": "ordinal"
          },
          "y": {
           "aggregate": "median",
           "field": "results",
           "type": "quantitative"
          }
         },
         "mark": {
          "color": "white",
          "size": 1000,
          "type": "tick"
         }
        }
       ],
       "title": "Applied Models on Drug_Lib on Drug.com: Side-Effects",
       "width": 400
      },
      "image/png": "[encoded data removed]",
      "text/plain": [
       "<VegaLite 2 object>\n",
       "\n",
       "If you see this message, it means the renderer has not been properly enabled\n",
       "for the frontend that you are using. For more information, see\n",
       "https://altair-viz.github.io/user_guide/troubleshooting.html\n"
      ]
     },
     "execution_count": 26,
     "metadata": {},
     "output_type": "execute_result"
    }
   ],
   "source": [
    " whiskers('Drug_Lib on Drug.com: Side-Effects')\n"
   ]
  },
  {
   "cell_type": "code",
   "execution_count": 27,
   "metadata": {},
   "outputs": [
    {
     "data": {
      "application/vnd.vegalite.v2+json": {
       "$schema": "https://vega.github.io/schema/vega-lite/v2.6.0.json",
       "config": {
        "view": {
         "height": 300,
         "width": 400
        }
       },
       "datasets": {
        "data-f45e77b1c67cd76130f417669dee84d8": [
         {
          "Model": "LogisticRegressio",
          "Objects": "Drug_Lib on Drug.com: Overall-Rating",
          "results": 0.6675935335448917
         },
         {
          "Model": "LogisticRegressio",
          "Objects": "Drug_Lib on Drug.com: Overall-Rating",
          "results": 0.6761535440189032
         },
         {
          "Model": "LogisticRegressio",
          "Objects": "Drug_Lib on Drug.com: Overall-Rating",
          "results": 0.6787533432670187
         },
         {
          "Model": "LogisticRegressio",
          "Objects": "Drug_Lib on Drug.com: Overall-Rating",
          "results": 0.6813157353317082
         },
         {
          "Model": "LogisticRegressio",
          "Objects": "Drug_Lib on Drug.com: Overall-Rating",
          "results": 0.6714464734377825
         },
         {
          "Model": "KNeighborsClassifier",
          "Objects": "Drug_Lib on Drug.com: Overall-Rating",
          "results": 0.6627493032912087
         },
         {
          "Model": "KNeighborsClassifier",
          "Objects": "Drug_Lib on Drug.com: Overall-Rating",
          "results": 0.6624562803543708
         },
         {
          "Model": "KNeighborsClassifier",
          "Objects": "Drug_Lib on Drug.com: Overall-Rating",
          "results": 0.10032606594886438
         },
         {
          "Model": "KNeighborsClassifier",
          "Objects": "Drug_Lib on Drug.com: Overall-Rating",
          "results": 0.3511349962904543
         },
         {
          "Model": "KNeighborsClassifier",
          "Objects": "Drug_Lib on Drug.com: Overall-Rating",
          "results": 0.662531094721223
         },
         {
          "Model": "SVC",
          "Objects": "Drug_Lib on Drug.com: Overall-Rating",
          "results": 0.6627617723523507
         },
         {
          "Model": "SVC",
          "Objects": "Drug_Lib on Drug.com: Overall-Rating",
          "results": 0.6627617723523507
         },
         {
          "Model": "SVC",
          "Objects": "Drug_Lib on Drug.com: Overall-Rating",
          "results": 0.6627617723523507
         },
         {
          "Model": "SVC",
          "Objects": "Drug_Lib on Drug.com: Overall-Rating",
          "results": 0.6627617723523507
         },
         {
          "Model": "SVC",
          "Objects": "Drug_Lib on Drug.com: Overall-Rating",
          "results": 0.6627617723523507
         },
         {
          "Model": "RandomForestClassifier",
          "Objects": "Drug_Lib on Drug.com: Overall-Rating",
          "results": 0.6626308472103593
         },
         {
          "Model": "RandomForestClassifier",
          "Objects": "Drug_Lib on Drug.com: Overall-Rating",
          "results": 0.6622754789678111
         },
         {
          "Model": "RandomForestClassifier",
          "Objects": "Drug_Lib on Drug.com: Overall-Rating",
          "results": 0.662549798312936
         },
         {
          "Model": "RandomForestClassifier",
          "Objects": "Drug_Lib on Drug.com: Overall-Rating",
          "results": 0.6625934400269332
         },
         {
          "Model": "RandomForestClassifier",
          "Objects": "Drug_Lib on Drug.com: Overall-Rating",
          "results": 0.6612093742401666
         },
         {
          "Model": "AdaBoostClassifier",
          "Objects": "Drug_Lib on Drug.com: Overall-Rating",
          "results": 0.6325928789191818
         },
         {
          "Model": "AdaBoostClassifier",
          "Objects": "Drug_Lib on Drug.com: Overall-Rating",
          "results": 0.6403236968272474
         },
         {
          "Model": "AdaBoostClassifier",
          "Objects": "Drug_Lib on Drug.com: Overall-Rating",
          "results": 0.6284905578034502
         },
         {
          "Model": "AdaBoostClassifier",
          "Objects": "Drug_Lib on Drug.com: Overall-Rating",
          "results": 0.6570571768798669
         },
         {
          "Model": "AdaBoostClassifier",
          "Objects": "Drug_Lib on Drug.com: Overall-Rating",
          "results": 0.6403112277661054
         }
        ]
       },
       "height": 500,
       "layer": [
        {
         "data": {
          "name": "data-f45e77b1c67cd76130f417669dee84d8"
         },
         "encoding": {
          "x": {
           "field": "Model",
           "type": "ordinal"
          },
          "y": {
           "aggregate": "min",
           "field": "results",
           "title": "Accuracy",
           "type": "quantitative"
          },
          "y2": {
           "aggregate": "q1",
           "field": "results",
           "type": "quantitative"
          }
         },
         "mark": {
          "size": 5,
          "type": "rule"
         },
         "selection": {
          "selector004": {
           "bind": "scales",
           "encodings": [
            "x",
            "y"
           ],
           "mark": {
            "fill": "#333",
            "fillOpacity": 0.125,
            "stroke": "white"
           },
           "on": "[mousedown, window:mouseup] > window:mousemove!",
           "resolve": "global",
           "translate": "[mousedown, window:mouseup] > window:mousemove!",
           "type": "interval",
           "zoom": "wheel!"
          }
         }
        },
        {
         "data": {
          "name": "data-f45e77b1c67cd76130f417669dee84d8"
         },
         "encoding": {
          "x": {
           "field": "Model",
           "type": "ordinal"
          },
          "y": {
           "aggregate": "q1",
           "field": "results",
           "type": "quantitative"
          },
          "y2": {
           "aggregate": "q3",
           "field": "results",
           "type": "quantitative"
          }
         },
         "mark": {
          "size": 50,
          "type": "bar"
         }
        },
        {
         "data": {
          "name": "data-f45e77b1c67cd76130f417669dee84d8"
         },
         "encoding": {
          "x": {
           "field": "Model",
           "type": "ordinal"
          },
          "y": {
           "aggregate": "max",
           "field": "results",
           "type": "quantitative"
          },
          "y2": {
           "aggregate": "q3",
           "field": "results",
           "type": "quantitative"
          }
         },
         "mark": {
          "size": 5,
          "type": "rule"
         }
        },
        {
         "data": {
          "name": "data-f45e77b1c67cd76130f417669dee84d8"
         },
         "encoding": {
          "x": {
           "field": "Model",
           "type": "ordinal"
          },
          "y": {
           "aggregate": "median",
           "field": "results",
           "type": "quantitative"
          }
         },
         "mark": {
          "color": "white",
          "size": 1000,
          "type": "tick"
         }
        }
       ],
       "title": "Applied Models on Drug_Lib on Drug.com: Overall-Rating",
       "width": 400
      },
      "image/png": "[encoded data removed]",
      "text/plain": [
       "<VegaLite 2 object>\n",
       "\n",
       "If you see this message, it means the renderer has not been properly enabled\n",
       "for the frontend that you are using. For more information, see\n",
       "https://altair-viz.github.io/user_guide/troubleshooting.html\n"
      ]
     },
     "execution_count": 27,
     "metadata": {},
     "output_type": "execute_result"
    }
   ],
   "source": [
    "whiskers('Drug_Lib on Drug.com: Overall-Rating')"
   ]
  },
  {
   "cell_type": "markdown",
   "metadata": {},
   "source": [
    "### Preparing for Drug Recommender"
   ]
  },
  {
   "cell_type": "code",
   "execution_count": null,
   "metadata": {},
   "outputs": [],
   "source": [
    "df_dc= pd.read_csv('Final_Drugscom.csv', sep=',')\n",
    "\n",
    "total_review_dc= [i for i in df_dc['review']]\n",
    "\n",
    "total_review_tokenized_dc = preprocess_data(total_review_dc)\n",
    "\n",
    "df_dc['review_tokenized']= total_review_tokenized_dc \n",
    "df_dc['review_tokenized']= df_dc['review_tokenized'].apply(lambda row: ' '.join(row)) \n",
    "\n",
    "df_dc.head(1)\n",
    "\n",
    "### Applying the model on Drug.com for Recommender\n",
    "\n",
    "X_train_S, y_train_S =df_t4['sideeffect_tokenized'], df_t4['sideEffects']\n",
    "\n",
    "### Prediction for Drugs.com - SideEffects\n",
    "\n",
    "X_train_S  =df_t4['sideeffect_tokenized']\n",
    "\n",
    "y_train_S= df_t4['sideEffects']\n",
    "\n",
    "X_test_S= df_dc['review_tokenized']\n",
    "\n",
    "\n",
    "\n",
    "v = CountVectorizer(analyzer = \"word\", ngram_range= (1,2))\n",
    "train_features= v.fit_transform(X_train_S)\n",
    "test_features=v.transform(X_test_S)\n",
    "\n",
    "m = LogisticRegression()\n",
    "\n",
    "\n",
    "\n",
    "   \n",
    "\n",
    "\n",
    "\n",
    "m.fit(train_features,y_train_S)\n",
    "pred = m.predict(test_features)\n",
    "\n",
    "df_dc['Pred_SE']=pred\n",
    "\n",
    "### Prediction for Drugs.com - Effectiveness\n",
    "\n",
    "X_train_E, y_train_E= df_t4['benefit_tokenized'], df_t4['effectiveness']\n",
    "X_test_E= df_dc['review_tokenized']\n",
    "\n",
    "v = CountVectorizer(analyzer = \"word\", ngram_range= (1,2))\n",
    "train_features= v.fit_transform(X_train_E)\n",
    "test_features=v.transform(X_test_E)\n",
    "\n",
    "m = LogisticRegression()\n",
    "\n",
    "m.fit(train_features,y_train_E)\n",
    "pred = m.predict(test_features)\n",
    "\n",
    "\n",
    "df_dc['Pred_E']=pred\n",
    "\n",
    "            \n",
    " \n",
    "\n",
    "###Converting to a csv\n",
    "df_dc.to_csv('Basis_drug_recommender.csv')\n",
    "\n",
    "df= pd.read_csv('Basis_drug_recommender.csv',sep=',')"
   ]
  }
 ],
 "metadata": {
  "kernelspec": {
   "display_name": "Python 3",
   "language": "python",
   "name": "python3"
  },
  "language_info": {
   "codemirror_mode": {
    "name": "ipython",
    "version": 3
   },
   "file_extension": ".py",
   "mimetype": "text/x-python",
   "name": "python",
   "nbconvert_exporter": "python",
   "pygments_lexer": "ipython3",
   "version": "3.7.2"
  }
 },
 "nbformat": 4,
 "nbformat_minor": 2
}
